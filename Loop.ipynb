{
 "cells": [
  {
   "cell_type": "code",
   "execution_count": null,
   "id": "f2c71775-c1a3-43c2-aa39-804faf796223",
   "metadata": {},
   "outputs": [],
   "source": [
    "#for loop \n",
    "#while loop\n"
   ]
  },
  {
   "cell_type": "code",
   "execution_count": null,
   "id": "739ec0a9-72c2-4500-b4f5-580f55c50b10",
   "metadata": {},
   "outputs": [],
   "source": [
    "for i in range(1,5):\n",
    "    print(i)"
   ]
  },
  {
   "cell_type": "code",
   "execution_count": 1,
   "id": "f49cdec9-e17d-444e-a7db-d344094c880a",
   "metadata": {},
   "outputs": [
    {
     "name": "stdout",
     "output_type": "stream",
     "text": [
      "1\n",
      "3\n"
     ]
    }
   ],
   "source": [
    "for i in range(1,5,2):\n",
    "    print(i)"
   ]
  },
  {
   "cell_type": "code",
   "execution_count": null,
   "id": "12d024c2-126c-407e-8094-50d4fa6b795d",
   "metadata": {},
   "outputs": [],
   "source": [
    "#range() #create sequence of number"
   ]
  },
  {
   "cell_type": "code",
   "execution_count": 2,
   "id": "6d69ec26-cbba-4b0e-8012-d483e867dc3e",
   "metadata": {},
   "outputs": [
    {
     "name": "stdout",
     "output_type": "stream",
     "text": [
      "5\n",
      "10\n",
      "15\n",
      "20\n",
      "25\n",
      "30\n",
      "35\n",
      "40\n",
      "45\n",
      "50\n"
     ]
    }
   ],
   "source": [
    "for i in range (1,11):\n",
    "    print(i*5)"
   ]
  },
  {
   "cell_type": "code",
   "execution_count": null,
   "id": "b27cce32-d683-423a-bd84-dcf47125f12b",
   "metadata": {},
   "outputs": [],
   "source": [
    "x= int(input(\"enter x =\"))\n",
    "for i in range (1,11):\n",
    "    print(x,\"*\",i,\"= \",\"i*x\")"
   ]
  },
  {
   "cell_type": "code",
   "execution_count": null,
   "id": "a63bd85e-0f56-4838-8c07-3230e8e655f1",
   "metadata": {},
   "outputs": [],
   "source": [
    "abc=0\n",
    "for i in range (5):\n",
    "    x= int(input(\"enter x =\"))\n",
    "    abc=abc + x\n",
    "print(abc)"
   ]
  },
  {
   "cell_type": "code",
   "execution_count": null,
   "id": "95691bf8-37ad-4277-86c6-fbb1d541c3ac",
   "metadata": {},
   "outputs": [],
   "source": [
    "abc=\"\" #str()\n",
    "n= int(input(\"enter n = \"))\n",
    "for i in range (n):\n",
    "    x= int(input(\"enter x =\"))\n",
    "    abc=abc + str(x) + \"\\n\"\n",
    "\n",
    "    \n",
    "print(abc)"
   ]
  },
  {
   "cell_type": "code",
   "execution_count": null,
   "id": "6a8bd435-e635-47d0-8630-cf8fce8c1b7a",
   "metadata": {},
   "outputs": [],
   "source": [
    "contact = \" \"\n",
    "n= int(input(\"Enter n = \"))\n",
    "for i in range (n):\n",
    "    name = int(input(\"Enter name =\"))\n",
    "    phone = int(input(\"Enter phone  =\"))\n",
    "    contact = contact + name + \" \" + str(phone) + \"\\n\"\n",
    "     \n",
    "print(contact)"
   ]
  },
  {
   "cell_type": "markdown",
   "id": "7c859adf-52e9-4c7a-aa06-4f707fc0c3de",
   "metadata": {},
   "source": [
    "fac = 1\n",
    "n = int(input(\"Enter n = \"))\n",
    "for i in range(1, n+1):\n",
    "    fac = fac * 1\n",
    "print(fac)"
   ]
  },
  {
   "cell_type": "code",
   "execution_count": null,
   "id": "ad7527bc-1c34-4196-9fec-06e6a3528cbc",
   "metadata": {},
   "outputs": [],
   "source": [
    "fac = 1\n",
    "n = int(input(\"enter x = \"))\n",
    "for i in range (1, n+1):\n",
    "    fac= fac*i\n",
    "print(fac)    \n"
   ]
  },
  {
   "cell_type": "code",
   "execution_count": null,
   "id": "0ee27187-299e-46fd-b125-0c51f6c26b9b",
   "metadata": {},
   "outputs": [],
   "source": [
    "n = 10 \n",
    "for i in range (10):\n",
    "    print((n-i)*\" \" ,2*(i *  'o'))\n",
    "for i in range(5):\n",
    "    print(7*\" \" , 5*\"o\")"
   ]
  },
  {
   "cell_type": "code",
   "execution_count": null,
   "id": "513aef48-328e-4101-9093-b3a7171b8dc4",
   "metadata": {},
   "outputs": [],
   "source": [
    "#wap to make a billing system\n",
    "name =?\n",
    "price = ?\n",
    "quantity =?\n",
    "total=?\n",
    "n= int(input(\"Enter n = \"))\n",
    "for i in range (n):\n",
    "    name = int(input(\"enter the name =\"))\n",
    "    price = int(input(\"enter the price =\"))\n",
    "    quantity = int(input(\"enter the quantity =\"))\n",
    "    total = price + \" \" +  str(name) + \" \" + quantity + \" \\n\"\n",
    "\n",
    "print(total)\n"
   ]
  },
  {
   "cell_type": "code",
   "execution_count": null,
   "id": "42dc207f-8e24-4801-98bd-df77a99545f4",
   "metadata": {},
   "outputs": [],
   "source": [
    "total = 0\n",
    "name = 0 \n",
    "price = 0\n",
    "quantity = 0\n",
    "n= int(input(\"Enter n = \"))\n",
    "for i in range (n):\n",
    "    name= input(\"Name: \")\n",
    "    a = str(name)\n",
    "    price = input(\"Enter the price: \")\n",
    "    b = int(price)\n",
    "    quantity = (\"Enter the quantity: \")\n",
    "    total = price + \" \" + name + \" \" + quantity + \" \\n\"\n",
    "\n",
    "print(total)\n",
    "\n",
    "                \n",
    "    \n"
   ]
  },
  {
   "cell_type": "code",
   "execution_count": null,
   "id": "d8d86674-32e3-485f-8ccb-10d994b1d802",
   "metadata": {},
   "outputs": [],
   "source": [
    "total = 0\n",
    "name = 0 \n",
    "price = 0\n",
    "quantity = 0\n",
    "n= int(input(\"Enter n = \"))\n",
    "for i in range (n):\n",
    "    name= input(\"Enter the Name: \")\n",
    "    price = input(\"Enter the price: \")\n",
    "    quantity = input(\"Enter the quantity: \")\n",
    "    total = name + \" \" + price + \" \" + quantity + \" \\n\"\n",
    "\n",
    "print(total)"
   ]
  },
  {
   "cell_type": "code",
   "execution_count": null,
   "id": "cdae7c39-97de-4d79-b385-efab6a803f95",
   "metadata": {},
   "outputs": [],
   "source": [
    "bill = \"\"\n",
    "all_total = 0\n",
    "n= int(input(\"Enter n = \"))\n",
    "for i in range (n):\n",
    "    name= input(\"Enter the Name = \")\n",
    "    price = int(input(\"Enter the price = \"))\n",
    "    quantity =int(input(\"Enter the quantity = \"))\n",
    "    total = price * quantity\n",
    "    bill = bill + name + \" \"  + str(price) + \" \" + str(quantity) + \" \" + str(total) + \"\\n\"\n",
    "    all_total = all_total + total\n",
    "\n",
    "print(bill)\n",
    "print(all_total)"
   ]
  },
  {
   "cell_type": "code",
   "execution_count": null,
   "id": "eaf43fc4-f52d-45ce-9f25-81b8712221bc",
   "metadata": {},
   "outputs": [],
   "source": [
    "a = \"hello world\"\n",
    "for i in a:\n",
    "    print(i ,\" hello world\")"
   ]
  },
  {
   "cell_type": "code",
   "execution_count": null,
   "id": "5f3fb6d7-f645-406b-9562-a67f5d9e74f4",
   "metadata": {},
   "outputs": [],
   "source": [
    "a = \"llo world, i am python\"\n",
    "for i in a:\n",
    "    print(i)"
   ]
  },
  {
   "cell_type": "code",
   "execution_count": null,
   "id": "f84676ca-bda1-40b1-87fc-805cd7edcadb",
   "metadata": {},
   "outputs": [],
   "source": [
    "a = \"hello world, i am python\"\n",
    "for i in a:\n",
    "    print(i,end =\"\")"
   ]
  },
  {
   "cell_type": "code",
   "execution_count": null,
   "id": "d69ae521-3c9a-4bf5-8d40-b24d12f9ed15",
   "metadata": {},
   "outputs": [],
   "source": [
    "a = \"hello world, i am python.\"\n",
    "for i in a:\n",
    "    if i !=\".\":\n",
    "       print(i,end =\"\")"
   ]
  },
  {
   "cell_type": "code",
   "execution_count": null,
   "id": "8a4dfebe-6871-42e0-9f6a-7998ecfc19ae",
   "metadata": {},
   "outputs": [],
   "source": [
    "a = \"hello world. i am python\"\n",
    "for i in a:\n",
    "    if i !=\".\" and i != \"!\":\n",
    "        print(i,end = \"\")"
   ]
  },
  {
   "cell_type": "code",
   "execution_count": null,
   "id": "de63f311-a797-4748-b770-9921e5e5703f",
   "metadata": {},
   "outputs": [],
   "source": [
    "#control statement\n",
    "#break\n",
    "#continue\n",
    "#pass\n"
   ]
  },
  {
   "cell_type": "code",
   "execution_count": null,
   "id": "f408a2cd-33ae-4773-b597-e7218cd35c8a",
   "metadata": {},
   "outputs": [],
   "source": [
    "#break\n",
    "for i in range(10):\n",
    "    if i == 5:\n",
    "        break\n",
    "\n",
    "    print(i)"
   ]
  },
  {
   "cell_type": "code",
   "execution_count": null,
   "id": "90643cde-f61c-428f-8f13-7bfb60d8e59f",
   "metadata": {},
   "outputs": [],
   "source": [
    "a = \"hello world. i am python.\"\n",
    "for i in a:\n",
    "    if i !=\".\":\n",
    "        break\n",
    "        \n",
    "    print(i,end = \"\")"
   ]
  },
  {
   "cell_type": "code",
   "execution_count": null,
   "id": "a55e2d83-eda3-43a5-a0dc-086ae8d56b25",
   "metadata": {},
   "outputs": [],
   "source": [
    "a = \"hello world. i am python.\"\n",
    "for i in a:\n",
    "    if i !=\".\":\n",
    "         print(i,end = \"\")\n",
    "    else:\n",
    "        break"
   ]
  },
  {
   "cell_type": "code",
   "execution_count": null,
   "id": "b4e2b19e-ec77-466f-80a6-1fc30653fa50",
   "metadata": {},
   "outputs": [],
   "source": [
    "#continue\n",
    "for i in range(10):\n",
    "    if i == 5:\n",
    "        continue\n",
    "\n",
    "    print(i, end = \" \")"
   ]
  },
  {
   "cell_type": "code",
   "execution_count": null,
   "id": "832ccf45-f898-49f6-b608-c6e6fc863620",
   "metadata": {},
   "outputs": [],
   "source": [
    "for i in range(1,51):\n",
    "    if i%5 !=0:\n",
    "        continue\n",
    "\n",
    "    print(i)"
   ]
  },
  {
   "cell_type": "code",
   "execution_count": null,
   "id": "5cb8f66b-5baa-4f48-b73b-819375cdc2f3",
   "metadata": {},
   "outputs": [],
   "source": [
    "a = \"Hello world. I am python.\"\n",
    "for i in a:\n",
    "    if i == \".\":\n",
    "        continue\n",
    "        \n",
    "    print(i,end = \"\")"
   ]
  },
  {
   "cell_type": "code",
   "execution_count": null,
   "id": "91f839fe-3955-41dc-a5c1-986dee4dd8ea",
   "metadata": {},
   "outputs": [],
   "source": [
    "#pass\n",
    "for i in range(5):\n",
    "    pass"
   ]
  },
  {
   "cell_type": "code",
   "execution_count": null,
   "id": "1e193447-123a-42fb-9e63-aa5a03589629",
   "metadata": {},
   "outputs": [],
   "source": [
    "a==10\n",
    "if a%2 ==0:\n",
    "    pass"
   ]
  },
  {
   "cell_type": "code",
   "execution_count": null,
   "id": "e7e2e90a-7b15-48dd-b067-1c2e992d1e01",
   "metadata": {},
   "outputs": [],
   "source": [
    "#while loop\n"
   ]
  },
  {
   "cell_type": "code",
   "execution_count": null,
   "id": "8afa9445-83c7-4227-979f-9de1bb1f0f07",
   "metadata": {},
   "outputs": [],
   "source": [
    "syntax:\n",
    "while<condition>:\n",
    "    <operation>"
   ]
  },
  {
   "cell_type": "code",
   "execution_count": null,
   "id": "153fbd49-12b3-4505-ac5f-594de331e797",
   "metadata": {},
   "outputs": [],
   "source": [
    "a = 0\n",
    "while a < 5:\n",
    "    print(\"Hello World\")\n",
    "    a = a + 1"
   ]
  },
  {
   "cell_type": "code",
   "execution_count": null,
   "id": "f54721bf-02fc-4e42-867f-024e44089ff0",
   "metadata": {},
   "outputs": [],
   "source": [
    "a = 1\n",
    "while a < 5:\n",
    "    print(\"Hello World\")\n",
    "    a = a + 1\n"
   ]
  },
  {
   "cell_type": "code",
   "execution_count": null,
   "id": "92a6d927-6474-43bb-b977-e03f61661a85",
   "metadata": {},
   "outputs": [],
   "source": [
    "a = 1\n",
    "while a < 5:\n",
    "    print(a ,\"Hello World\")\n",
    "    a = a + 0.5"
   ]
  },
  {
   "cell_type": "code",
   "execution_count": null,
   "id": "b2105077-d38b-4ae2-b05b-bd1404d077f7",
   "metadata": {},
   "outputs": [],
   "source": [
    "i = 1\n",
    "x= int(input(\"enter x =\"))\n",
    "while i<=10:    \n",
    "    print(x,\"*\",i,\"= \",\"i*x \")\n",
    "    i = i + 1"
   ]
  },
  {
   "cell_type": "code",
   "execution_count": null,
   "id": "79b05af8-e6db-463d-a3fa-14121a9a566b",
   "metadata": {},
   "outputs": [],
   "source": [
    "i = 1\n",
    "fac = 1\n",
    "n = int(input(\"enter n = \"))\n",
    "while i<=n:\n",
    "    fac= fac*i\n",
    "    i = i + 1\n",
    "    \n",
    "print(fac)    "
   ]
  },
  {
   "cell_type": "code",
   "execution_count": null,
   "id": "de28b0be-f462-4426-91f1-94e7320ba292",
   "metadata": {},
   "outputs": [],
   "source": [
    "# wap bill system using while loop\n",
    "i = 0\n",
    "bill = \"\"\n",
    "all_total = 0\n",
    "n= int(input(\"Enter n = \"))\n",
    "while i <= n:\n",
    "    name= input(\"Enter the Name = \")\n",
    "    price = int(input(\"Enter the price = \"))\n",
    "    quantity =int(input(\"Enter the quantity = \"))\n",
    "    total = price * quantity\n",
    "    bill = bill + name + \" \"  + str(price) + \" \" + str(quantity) + \" \" + str(total) + \"\\n\"\n",
    "    all_total = all_total + total\n",
    "    i = i + 1\n",
    "\n",
    "print(bill)\n",
    "print(all_total)\n",
    "\n",
    "important note: - while loop use garda hamile dhyan denu parnii kura  3 wota xa \n",
    "1. first initilized garni \n",
    "2. while lagayira condition lagauni\n",
    "3.last maa increment garni ."
   ]
  },
  {
   "cell_type": "code",
   "execution_count": null,
   "id": "9fc3e68e-cd0a-468b-a369-54d6592f4cc1",
   "metadata": {},
   "outputs": [],
   "source": [
    "#break in while\n",
    "i = 0\n",
    "while i<=10:\n",
    "    if i == 5:\n",
    "        break\n",
    "    print(i)\n",
    "    i = i + 1"
   ]
  },
  {
   "cell_type": "code",
   "execution_count": null,
   "id": "3f794c9f-fb6d-4df6-9e99-9fcf5ed85134",
   "metadata": {},
   "outputs": [],
   "source": [
    "#continue in while\n",
    "i = 0\n",
    "while i<=10:\n",
    "    if i == 5:\n",
    "        i = i + 1\n",
    "        continue\n",
    "    print(i)\n",
    "    i = i + 1"
   ]
  },
  {
   "cell_type": "code",
   "execution_count": null,
   "id": "dbe639c0-398d-4f0c-a961-5ddfbff0eccc",
   "metadata": {},
   "outputs": [],
   "source": [
    "#continue in while\n",
    "i = 0\n",
    "while i<=10:\n",
    "    if i == 5:\n",
    "        i = i + 1\n",
    "        continue\n",
    "    print(i, end = \" \")\n",
    "    i = i + 1"
   ]
  },
  {
   "cell_type": "code",
   "execution_count": null,
   "id": "545102c3-d284-4b1e-9f61-4e12563419d8",
   "metadata": {},
   "outputs": [],
   "source": [
    "#wap to find if the given number is prime or composite\n",
    "num=int(input(\"Enter the no:\"))\n",
    "count=0\n",
    "i=1\n",
    "while i<=num:\n",
    "    if num%i==0:\n",
    "        count=count + 1\n",
    "    i= i + 1\n",
    "if count==2:\n",
    "    print(\"The number is prime:\")\n",
    "elif count>2:\n",
    "    print(\"The number is composite:\")\n",
    "else:\n",
    "    print(\"The number is neither prime nor composite:\")"
   ]
  },
  {
   "cell_type": "code",
   "execution_count": null,
   "id": "3d8fbf7a-192e-485d-aaf7-81ddfdf94d16",
   "metadata": {},
   "outputs": [],
   "source": [
    "num=int(input(\"Enter the no:\"))\n",
    "count =0\n",
    "i=1\n",
    "while i<=num:\n",
    "    if num % i == 0:\n",
    "       count = count + 1\n",
    "    i = i + 1\n",
    "if count==2:\n",
    "    print(\"The number is prime:\")\n",
    "    \n",
    "   \n",
    "else:\n",
    "    print(\"The number is not prime:\")"
   ]
  },
  {
   "cell_type": "code",
   "execution_count": null,
   "id": "d2c0bbaa-9589-46ac-9efb-f917cc799289",
   "metadata": {},
   "outputs": [],
   "source": [
    "num=int(input(\"Enter the no:\"))\n",
    "count =0\n",
    "i=1\n",
    "while i<=num:\n",
    "    if num % i == 0:\n",
    "       count = count + 1\n",
    "    i = i + 1\n",
    "if count>2:\n",
    "    print(\"The number is composite:\")\n",
    "    \n",
    "   \n",
    "else:\n",
    "    print(\"The number is not composite:\")"
   ]
  },
  {
   "cell_type": "code",
   "execution_count": null,
   "id": "2cd96ca0-ed08-49ef-b57c-b0f833b7c537",
   "metadata": {},
   "outputs": [],
   "source": [
    "#string\n",
    "a = 'Hello World'\n",
    "b = \"Hello World\"\n",
    "c = '''Hello World'''\n",
    "print(type(a))\n",
    "print(type(b))\n",
    "print(type(c))\n"
   ]
  },
  {
   "cell_type": "code",
   "execution_count": null,
   "id": "db6c5b58-fe45-4279-81cb-0d6ea8ada8d1",
   "metadata": {},
   "outputs": [],
   "source": [
    "a = \"Hello World\\n\"\n",
    "print(a*2)"
   ]
  },
  {
   "cell_type": "code",
   "execution_count": null,
   "id": "7b416323-ff74-4b73-ad0d-2c5741730e2f",
   "metadata": {},
   "outputs": [],
   "source": [
    "a = \"Hello World\"\n",
    "for i in a:\n",
    "    print(i,end =\"\")"
   ]
  },
  {
   "cell_type": "code",
   "execution_count": null,
   "id": "b60df260-136d-4020-a4e1-ae66ce3c4eb9",
   "metadata": {},
   "outputs": [],
   "source": [
    "a = \"Hello World\"\n",
    "print(a[0])\n",
    "print(a[0:5])\n",
    "print(a[0:10:2])"
   ]
  },
  {
   "cell_type": "code",
   "execution_count": null,
   "id": "f24ae95e-49c5-45cc-849b-3b8952d79d81",
   "metadata": {},
   "outputs": [],
   "source": [
    "a = \"Hello World\"\n",
    "print(a[5:])"
   ]
  },
  {
   "cell_type": "code",
   "execution_count": null,
   "id": "482edccf-1677-42ca-acf8-aa7883d7f936",
   "metadata": {},
   "outputs": [],
   "source": [
    "a = \"Hello World\"\n",
    "print(a[-1])"
   ]
  },
  {
   "cell_type": "code",
   "execution_count": null,
   "id": "fff10563-37ee-4656-aabe-1eea5a0f622e",
   "metadata": {},
   "outputs": [],
   "source": [
    "a = \"Hello World\"\n",
    "print(a[-1:-12:-1])"
   ]
  },
  {
   "cell_type": "code",
   "execution_count": null,
   "id": "e9bc9c79-ffee-4456-949a-a196587be461",
   "metadata": {},
   "outputs": [],
   "source": [
    "a = \"Hello World\"\n",
    "print(a[::-1])"
   ]
  },
  {
   "cell_type": "code",
   "execution_count": null,
   "id": "c52936e5-2f2e-413d-9ba0-ee6dc8a5b36a",
   "metadata": {},
   "outputs": [],
   "source": [
    "a = \" Hello World\"\n",
    "l = len(a)\n",
    "for i in range(l):\n",
    "   print(a[i])"
   ]
  },
  {
   "cell_type": "code",
   "execution_count": null,
   "id": "4f005563-28a1-44e1-9a74-66b70a485cab",
   "metadata": {},
   "outputs": [],
   "source": [
    "a = \" Hello World\"\n",
    "i=0\n",
    "l = len(a)\n",
    "while i<l:\n",
    "   print(a[i])\n",
    "   i = i + 1 "
   ]
  },
  {
   "cell_type": "code",
   "execution_count": null,
   "id": "e62f633c-4e65-4256-b8b3-c39e46e95282",
   "metadata": {},
   "outputs": [],
   "source": [
    "# string formatting\n",
    "name = \"Ram\"\n",
    "age = 10\n",
    "add = \"Dhangadhi\"\n",
    "info = \"Hello world I am \" + name + \"I am from \" + str(add) + \" I am \" + str(age)\n",
    "print(info)"
   ]
  },
  {
   "cell_type": "code",
   "execution_count": null,
   "id": "beba3707-27d4-4e2b-b26f-eb17ad07efe1",
   "metadata": {},
   "outputs": [],
   "source": [
    "name = \"Ram\"\n",
    "age = 10\n",
    "add = \"Dhangadhi\"\n",
    "info = f\"Hello world I am {name}  I am from {add} I am {age}\"\n",
    "print(info)"
   ]
  },
  {
   "cell_type": "code",
   "execution_count": null,
   "id": "c19c03b3-f9e8-4cb8-a653-5b8a8b13b1c2",
   "metadata": {},
   "outputs": [],
   "source": [
    "a = \"Ram Shyam Hari Sita Gita\"\n",
    "search = input(\"Enter name =\")\n",
    "if search in a:\n",
    "    print(\"Yes\",a.count(search))\n",
    "\n",
    "else:\n",
    "    print(\"No\")"
   ]
  },
  {
   "cell_type": "code",
   "execution_count": null,
   "id": "bc98ffef-d1f2-4bbe-b928-b83639ba98e0",
   "metadata": {},
   "outputs": [],
   "source": [
    "a = \"Ram Shyam Hari Sita Gita\"\n",
    "print(a.lower())\n",
    "print(a.upper())\n",
    "print(a)"
   ]
  },
  {
   "cell_type": "code",
   "execution_count": null,
   "id": "d1d9859e-9a35-47c0-9cc8-9f66391c73f8",
   "metadata": {},
   "outputs": [],
   "source": [
    "a = \"Ram Shyam Hari Sita Gita\".lower()\n",
    "search = input(\"Enter name =\").lower()\n",
    "if search in a:\n",
    "    print(\"Yes\",a.count(search))\n",
    "\n",
    "else:\n",
    "    print(\"No\")"
   ]
  },
  {
   "cell_type": "code",
   "execution_count": null,
   "id": "65bee53d-a280-4c5e-a8c9-92d57a068e4e",
   "metadata": {},
   "outputs": [],
   "source": [
    "a = \"Ram Shyam Hari Sita Gita\"\n",
    "if \"Nabin\" not in a:\n",
    "    print(\"No\")"
   ]
  },
  {
   "cell_type": "code",
   "execution_count": null,
   "id": "f4607ed3-ff19-4a78-bc69-5e2e350d2c3b",
   "metadata": {},
   "outputs": [],
   "source": [
    "a = \"Ram Shyam Hari Sita Gita\"\n",
    "print(a.isupper())\n",
    "print(a.islower())"
   ]
  },
  {
   "cell_type": "code",
   "execution_count": null,
   "id": "76ec409d-f44e-446c-842b-a8a2e9e30d98",
   "metadata": {},
   "outputs": [],
   "source": [
    "a = \"ram shyam hari sita gita\"\n",
    "print(a.isupper())\n",
    "print(a.islower())\n"
   ]
  },
  {
   "cell_type": "code",
   "execution_count": null,
   "id": "5f4a73a0-a9fb-41da-8983-149f63ce3b06",
   "metadata": {},
   "outputs": [],
   "source": [
    "a = \"Ram\"\n",
    "print(a[0].isupper())"
   ]
  },
  {
   "cell_type": "code",
   "execution_count": null,
   "id": "77f961a5-6997-4f6e-a23a-d1173c8bdb95",
   "metadata": {},
   "outputs": [],
   "source": [
    "#replace function\n",
    "a = \"ram shyam hari sita gita\"\n",
    "a = a.replace(\"ram\",\"rama\")\n",
    "print(a)\n"
   ]
  },
  {
   "cell_type": "code",
   "execution_count": null,
   "id": "24a83239-ce32-4d84-8fbe-ae139a5befeb",
   "metadata": {},
   "outputs": [],
   "source": [
    "#replace function\n",
    "a = \"ram shyam hari sita gita\".replace(\"ram\",\"rama\")\n",
    "\n",
    "print(a)\n",
    "\n",
    "note: yesari pani garna melyo vanna khojiko"
   ]
  },
  {
   "cell_type": "code",
   "execution_count": null,
   "id": "4f6dc2e2-0b15-4ffb-85d9-0871c66386f3",
   "metadata": {},
   "outputs": [],
   "source": [
    "#remove function\n",
    "a = \"ram shyam hari sita gita\"\n",
    "a = a.replace(\"ram\",\" \")\n",
    "print(a)\n",
    "\n",
    "note: python maa delete vanni function hudaina so hami delete garda yesari lekhna sakxau"
   ]
  },
  {
   "cell_type": "code",
   "execution_count": null,
   "id": "62eef02e-a6bd-4bfb-96b2-41eb80d11a57",
   "metadata": {},
   "outputs": [],
   "source": [
    "# wap program for palindrom number\n",
    "num = input(\"Enter the number =\")\n",
    "reverse = (num[::-1])\n",
    "if (num == reverse):\n",
    "    print(\"The number is palindrome\")\n",
    "else:\n",
    "    print(\"The number is not palindrome\")\n",
    "    \n",
    "\n"
   ]
  },
  {
   "cell_type": "code",
   "execution_count": null,
   "id": "9455cdcb-b73d-4ca2-8dfd-4fcc3e5ba7cc",
   "metadata": {},
   "outputs": [],
   "source": [
    "# python collection\n",
    "# list\n",
    "# tuple\n",
    "# dict\n",
    "# set\n"
   ]
  },
  {
   "cell_type": "code",
   "execution_count": null,
   "id": "042db9fc-b29d-4bb9-b158-500959561883",
   "metadata": {},
   "outputs": [],
   "source": [
    "#list\n",
    "#multple and duplicate data\n",
    "#indexing\n",
    "#ordered\n",
    "#mutable\n"
   ]
  },
  {
   "cell_type": "code",
   "execution_count": null,
   "id": "a3f542fd-88bc-40aa-92c2-1bbe7523e20e",
   "metadata": {},
   "outputs": [],
   "source": [
    "a = list()\n",
    "b = []\n"
   ]
  },
  {
   "cell_type": "code",
   "execution_count": null,
   "id": "4a572340-acd9-4ea4-a51a-a625ef193f01",
   "metadata": {},
   "outputs": [],
   "source": [
    "a = [\"Apple\",\"Ball\",\"Cat\",\"Dog\",\"Fish\",\"Apple\"]\n",
    "print(a[0])"
   ]
  },
  {
   "cell_type": "code",
   "execution_count": null,
   "id": "4e5001ae-2d2f-4bd4-a318-76c7281bf465",
   "metadata": {},
   "outputs": [],
   "source": [
    "a = [\"Apple\",\"Ball\",\"Cat\",\"Dog\",\"Fish\",\"Apple\"]\n",
    "print(a[0:5])\n",
    "print(a[0:5:2])"
   ]
  },
  {
   "cell_type": "code",
   "execution_count": null,
   "id": "2c56e094-d200-49d2-88bc-1ebb18fc9a98",
   "metadata": {},
   "outputs": [],
   "source": [
    "a = [\"Apple\",\"Ball\",\"Cat\",\"Dog\",\"Fish\",\"Apple\"]\n",
    "b =[ 0,1,2,3,4,5,6,7,8,9,0]\n",
    "print(type(a))\n",
    "print(type(b))\n",
    "print(a)"
   ]
  },
  {
   "cell_type": "code",
   "execution_count": null,
   "id": "19049cd5-4f99-45ad-98b4-b0da7c73336f",
   "metadata": {},
   "outputs": [],
   "source": [
    "a = [1,2,3,4,5]\n",
    "b = [6,7,8,9]\n",
    "c = a + b\n",
    "print(c)"
   ]
  },
  {
   "cell_type": "code",
   "execution_count": null,
   "id": "706392ec-87a2-4af7-90b1-6d4b0f63ebd1",
   "metadata": {},
   "outputs": [],
   "source": [
    "a = [1,2,3,4,5]\n",
    "b = [6,7,8,9]\n",
    "print(a*2, b*2)"
   ]
  },
  {
   "cell_type": "code",
   "execution_count": null,
   "id": "9b430384-b788-4991-85d3-f4f2b4fdc602",
   "metadata": {},
   "outputs": [],
   "source": [
    "#append() insert() extend()\n",
    "a =[]\n",
    "a.append(\"Apple\")\n",
    "a.append(\"Ball\")\n",
    "print(a)"
   ]
  },
  {
   "cell_type": "code",
   "execution_count": 8,
   "id": "ac77d70a-ca07-4e6d-9df4-e2ac0aea7171",
   "metadata": {},
   "outputs": [
    {
     "name": "stdin",
     "output_type": "stream",
     "text": [
      "enter n = 2\n",
      "enter x = 3\n",
      "enter x = 4\n"
     ]
    },
    {
     "name": "stdout",
     "output_type": "stream",
     "text": [
      "[3, 4]\n"
     ]
    }
   ],
   "source": [
    "l=[]\n",
    "n = int(input(\"enter n =\"))\n",
    "for i in range (n):\n",
    "    x = int(input(\"enter x =\")) \n",
    "    l.append(x)\n",
    "\n",
    "print(l)"
   ]
  },
  {
   "cell_type": "code",
   "execution_count": 3,
   "id": "3da21b15-25b1-4673-94d6-b272550d70f8",
   "metadata": {},
   "outputs": [
    {
     "ename": "TypeError",
     "evalue": "len() takes exactly one argument (0 given)",
     "output_type": "error",
     "traceback": [
      "\u001b[1;31m---------------------------------------------------------------------------\u001b[0m",
      "\u001b[1;31mTypeError\u001b[0m                                 Traceback (most recent call last)",
      "Cell \u001b[1;32mIn[3], line 2\u001b[0m\n\u001b[0;32m      1\u001b[0m l \u001b[38;5;241m=\u001b[39m[]\n\u001b[1;32m----> 2\u001b[0m l \u001b[38;5;241m=\u001b[39m \u001b[38;5;28mlen\u001b[39m()\n\u001b[0;32m      3\u001b[0m \u001b[38;5;28mprint\u001b[39m(\u001b[38;5;124m\"\u001b[39m\u001b[38;5;124mmin value = \u001b[39m\u001b[38;5;124m\"\u001b[39m,\u001b[38;5;28mmin\u001b[39m(l))\n\u001b[0;32m      4\u001b[0m \u001b[38;5;28mprint\u001b[39m(\u001b[38;5;124m\"\u001b[39m\u001b[38;5;124mmax value =\u001b[39m\u001b[38;5;124m\"\u001b[39m,\u001b[38;5;28mmax\u001b[39m(l))\n",
      "\u001b[1;31mTypeError\u001b[0m: len() takes exactly one argument (0 given)"
     ]
    }
   ],
   "source": [
    "n = int(input(\"Enter n = \"))\n",
    "print(\"min value = \",min(l))\n",
    "print(\"max value =\",max(l))\n",
    "print(\"sum value =\", sum(l))\n",
    "l.sort()\n",
    "print(l)\n",
    "l.reverse()\n",
    "print(l)"
   ]
  },
  {
   "cell_type": "code",
   "execution_count": 7,
   "id": "e0741c3a-0929-497b-83a1-8d1b23e301ec",
   "metadata": {},
   "outputs": [
    {
     "name": "stdin",
     "output_type": "stream",
     "text": [
      "enter n = 2\n",
      "enter x = 2\n",
      "enter x = 3\n"
     ]
    },
    {
     "name": "stdout",
     "output_type": "stream",
     "text": [
      "['2', '3']\n"
     ]
    }
   ],
   "source": [
    "l=[]\n",
    "n = int(input(\"enter n =\"))\n",
    "for i in range (n):\n",
    "    x = input(\"enter x =\")\n",
    "    l.append(x)\n",
    "    l.sort() \n",
    "print(l)\n",
    "\n",
    "#note: alphabtic oreder maa chabge garna l.order () gardeyo vani alphabatic maa print hunxa"
   ]
  },
  {
   "cell_type": "code",
   "execution_count": null,
   "id": "87fef3d2-d0e4-44da-b87a-12f423caeb98",
   "metadata": {},
   "outputs": [],
   "source": [
    "#insert\n",
    "a = [\"Ram\",\"Shyam\",\"Hari\",\"Gita\",\"Sita\"]\n",
    "a.insert(1,\"Teja\")\n",
    "print(a)"
   ]
  },
  {
   "cell_type": "code",
   "execution_count": null,
   "id": "7eb0423a-6c5c-4c1f-831f-f019fc9582a9",
   "metadata": {},
   "outputs": [],
   "source": [
    "#update\n",
    "a = [\"Ram\",\"Shyam\",\"Hari\",\"Gita\",\"Sita\"]\n",
    "a[0] = \"Teja\"\n",
    "print(a)"
   ]
  },
  {
   "cell_type": "code",
   "execution_count": null,
   "id": "a83b85de-6057-4534-96ae-887854f6b669",
   "metadata": {},
   "outputs": [],
   "source": [
    "a = [\"Ram\",\"Shyam\",\"Hari\",\"Gita\",\"Sita\"]\n",
    "a[0:2] = ['Teja' , 'Tej']\n",
    "print(a)"
   ]
  },
  {
   "cell_type": "code",
   "execution_count": null,
   "id": "12c538b8-fe8e-4e21-9839-49c809ff4129",
   "metadata": {},
   "outputs": [],
   "source": [
    "#insert multiple value inside certain index.\n",
    "\n",
    "a = [\"Ram\",\"Shyam\",\"Hari\",\"Gita\",\"Sita\"]\n",
    "a[1:1] = [\"Teja\",\"Tej\"]\n",
    "print(a)"
   ]
  },
  {
   "cell_type": "code",
   "execution_count": null,
   "id": "eeeb9d76-eafb-4cec-8bda-2651b68dbaa0",
   "metadata": {},
   "outputs": [],
   "source": [
    "#for delete  ko lagi use garni symbol haru del(), remove(), pop(), clear().\n",
    "\n",
    "a = [\"Ram\",\"Shyam\",\"Hari\",\"Gita\",\"Sita\"]\n",
    "del a[0]\n",
    "print(a)"
   ]
  },
  {
   "cell_type": "code",
   "execution_count": null,
   "id": "5806fd10-85d2-4aa8-96f4-5b53fe819eca",
   "metadata": {},
   "outputs": [],
   "source": [
    "a = [\"Ram\",\"Shyam\",\"Hari\",\"Gita\",\"Sita\"]\n",
    "del a[0:2]\n",
    "print(a)"
   ]
  },
  {
   "cell_type": "code",
   "execution_count": null,
   "id": "75e3ff56-d520-42ef-a021-1c192d992f84",
   "metadata": {},
   "outputs": [],
   "source": [
    "a = [\"Ram\",\"Shyam\",\"Hari\",\"Gita\",\"Sita\"]\n",
    "a.remove(\"Ram\")\n",
    "print(a)"
   ]
  },
  {
   "cell_type": "code",
   "execution_count": null,
   "id": "134dc5ce-2040-42ef-bf66-95a62ba21e9e",
   "metadata": {},
   "outputs": [],
   "source": [
    "a = [\"Ram\",\"Shyam\",\"Hari\",\"Gita\",\"Sita\"]\n",
    "a.pop()\n",
    "print(a)"
   ]
  },
  {
   "cell_type": "code",
   "execution_count": null,
   "id": "d0ed0e69-407f-4f6b-aed2-a75545fb6d05",
   "metadata": {},
   "outputs": [],
   "source": [
    "a = [\"Ram\",\"Shyam\",\"Hari\",\"Gita\",\"Sita\"]\n",
    "b = a. pop(1)\n",
    "print(a)\n",
    "print(b)\n"
   ]
  },
  {
   "cell_type": "code",
   "execution_count": null,
   "id": "6c75216b-aad1-4fb0-b535-2b696391d8a6",
   "metadata": {},
   "outputs": [],
   "source": [
    "a = [\"Ram\",\"Shyam\",\"Hari\",\"Gita\",\"Sita\"]\n",
    "for i in a:\n",
    "    print(i)"
   ]
  },
  {
   "cell_type": "code",
   "execution_count": null,
   "id": "9cf5da44-a8b4-475b-9424-f4052d64fd84",
   "metadata": {},
   "outputs": [],
   "source": [
    "a = [\"Ram\",\"Shyam\",\"Hari\",\"Gita\",\"Sita\"]\n",
    "l = len(a)\n",
    "print(l)\n",
    "for i in a:\n",
    "    print(i)"
   ]
  },
  {
   "cell_type": "code",
   "execution_count": null,
   "id": "753955f7-dcc2-4231-9b36-46d14ab39eb1",
   "metadata": {},
   "outputs": [],
   "source": [
    "i = 0\n",
    "a = [\"Ram\",\"Shyam\",\"Hari\",\"Gita\",\"Sita\"]\n",
    "l = len(a)\n",
    "while i<l:\n",
    "    print(a[i])\n",
    "    i = i + 1\n",
    "    "
   ]
  },
  {
   "cell_type": "code",
   "execution_count": null,
   "id": "ee108ca8-1eb9-4088-b1fb-7ac8392083ce",
   "metadata": {},
   "outputs": [],
   "source": [
    "#recoveriny multiple value\n",
    "\n",
    "a = [\"Ram\",\"Shyam\",\"Hari\",\"Gita\",\"Sita\", \"Ram\"]\n",
    "c = a.count(\"Ram\")\n",
    "for i in range(c):\n",
    "    a.remove(\"Ram\")\n",
    "\n",
    "print(a)\n",
    "\n"
   ]
  },
  {
   "cell_type": "code",
   "execution_count": null,
   "id": "9f7e0805-2e17-44c4-b061-600da692375d",
   "metadata": {},
   "outputs": [],
   "source": [
    "#recoveriny multiple value\n",
    "\n",
    "a = [\"Ram\",\"Shyam\",\"Hari\",\"Gita\",\"Sita\", \"Ram\"]\n",
    "if \"Ram\" in a:\n",
    "    print(\"Yes\",a.count(\"Ram\"))\n",
    "\n",
    "else:\n",
    "    print(\"No\")\n",
    "\n",
    "\n"
   ]
  },
  {
   "cell_type": "code",
   "execution_count": null,
   "id": "87f9d6f0-0549-4b28-a60e-a7dfef9ef8ed",
   "metadata": {},
   "outputs": [],
   "source": [
    "a = [\"Ram\",\"Shyam\",\"Hari\",\"Gita\",\"Sita\", \"Ram\"]\n",
    "a.index(\"Ram\")\n",
    "\n",
    "\n",
    "#note: index le single number lai matra print garxa but yadi multiple name xan same ra tini haru lai kati wota xan vanna tha pauna ko lagi aru lai varible use garni index use garna mildaina multile number ko lagi\n"
   ]
  },
  {
   "cell_type": "code",
   "execution_count": null,
   "id": "c2f0ddbc-cd01-44c5-a4e3-60bd7fd73987",
   "metadata": {},
   "outputs": [],
   "source": [
    "a = [\"Ram\",\"Shyam\",\"Hari\",\"Gita\",\"Sita\", \"Ram\"]\n",
    "l = len(a)\n",
    "for i in range(l):\n",
    "    if a[i]==\"Ram\":\n",
    "        print(i)\n",
    "\n",
    "#note : multiuple number kati kati number xan vanna hirna hami le yesari loop lagayira garnu parxa"
   ]
  },
  {
   "cell_type": "code",
   "execution_count": null,
   "id": "04c74b25-85e4-4706-b33a-d51487af2e8a",
   "metadata": {},
   "outputs": [],
   "source": [
    "a = [\"Ram\",\"Shyam\",\"Hari\",\"Gita\",\"Sita\", \"ram\"]\n",
    "name = input(\"Enter name =\")\n",
    "l = len(a)\n",
    "for i in range(l):\n",
    "    if a[i].lower()==name.lower():\n",
    "        print(i)\n"
   ]
  },
  {
   "cell_type": "code",
   "execution_count": null,
   "id": "9372ed94-d9f7-429d-9722-f362bdac139f",
   "metadata": {},
   "outputs": [],
   "source": [
    "a = [1,2,3,4,5,6,7]\n",
    "l = len(a)\n",
    "for i in range(l-1,-1,-1):\n",
    "     print(a[i]) "
   ]
  },
  {
   "cell_type": "code",
   "execution_count": null,
   "id": "33c1c01c-e339-4d39-b0e2-53c9b9344a25",
   "metadata": {},
   "outputs": [],
   "source": [
    "#nasted list\n",
    "\n",
    "a =[[1,2,3],\n",
    "    [4,5,6],\n",
    "    [7,8,9]]\n",
    "print(a)"
   ]
  },
  {
   "cell_type": "code",
   "execution_count": null,
   "id": "4e45577a-72c8-4a7b-b0b8-79d2d953bd2b",
   "metadata": {},
   "outputs": [],
   "source": [
    "info = [[\"ram\" , \"shyam\" , \"hari\"],\n",
    "       [\"gita\" ,\"sita\"]]\n",
    "print(info)\n",
    "print(len(info))\n",
    "info[0][0]"
   ]
  },
  {
   "cell_type": "code",
   "execution_count": null,
   "id": "7d24b198-ca3a-4893-ad74-aa8d248ac10c",
   "metadata": {},
   "outputs": [],
   "source": [
    "infon = []\n",
    "n = int(input(\"Enter the value of n = \"))\n",
    "for i in range(n):\n",
    "    name = input(\"Enter name = \")\n",
    "    age = int(input(\"Enter age = \"))\n",
    "    add = input(\"Enter address = \")\n",
    "    x = [name,age,add]\n",
    "    info.append(x)\n",
    "\n",
    "print(info)"
   ]
  },
  {
   "cell_type": "code",
   "execution_count": null,
   "id": "68f75a47-ba49-45bd-86d4-342abbe5c9a8",
   "metadata": {},
   "outputs": [],
   "source": [
    "info.append([\"Tej\",24,\"Lalitpur\"])"
   ]
  },
  {
   "cell_type": "code",
   "execution_count": null,
   "id": "ee696425-d7e1-4267-88bc-5f3ed66ca0e9",
   "metadata": {},
   "outputs": [],
   "source": [
    "#update\n",
    "info = [[\"ram\" , 25 , \"Dhn\"],\n",
    "       [\"Teja\" , 27,\"Mnr\"]]\n",
    "info[0] = [\"Tej\",26,\"Ktm\"]\n",
    "print(info)"
   ]
  },
  {
   "cell_type": "code",
   "execution_count": null,
   "id": "5ed41e4d-0942-429d-ba92-3ee5cc054253",
   "metadata": {},
   "outputs": [],
   "source": [
    "#delete\n",
    "\n",
    "info = [[\"ram\" , \"shyam\" , \"hari\"],\n",
    "       [\"gita\" ,\"sita\"]]\n",
    "del info[0]\n",
    "print(info)"
   ]
  },
  {
   "cell_type": "code",
   "execution_count": null,
   "id": "32d5e023-5a86-4eb3-8c28-0f7f8f47c02a",
   "metadata": {},
   "outputs": [],
   "source": [
    "#pop\n",
    "\n",
    "a = [[\"ram\" , \"shyam\" , \"hari\"], [\"gita\" ,\"sita\"]]\n",
    "b = a.pop(0)\n",
    "print(a)\n",
    "print(b)\n",
    "      "
   ]
  },
  {
   "cell_type": "code",
   "execution_count": null,
   "id": "cf325969-4962-4943-8f09-a2e1dd7de5d4",
   "metadata": {},
   "outputs": [],
   "source": [
    "#search in list inside list\n",
    "\n",
    "a = [[\"ram\" , 25 , \"Dhn\"],[\"Teja\" , 27,\"Mnr\"]]      \n",
    "name = input(\"Enter name = \")\n",
    "for i in a:\n",
    "    if name in i:\n",
    "        print(i)\n",
    "    "
   ]
  },
  {
   "cell_type": "code",
   "execution_count": null,
   "id": "50165822-3a36-4e5b-8cbe-7de5c4229e38",
   "metadata": {},
   "outputs": [],
   "source": [
    "a = [[\"ram\" , 25 , \"Dhn\"],[\"Teja\" , 27,\"Mnr\"],[\"sita\",22,\"Npl\"] ,[\"ram\" , 25 , \"Dhn\"]]      \n",
    "name = input(\"Enter name = \")\n",
    "l = len(a)\n",
    "for i in range(l):\n",
    "    if name in a[i]:\n",
    "        print(i)"
   ]
  },
  {
   "cell_type": "code",
   "execution_count": null,
   "id": "1f95548b-4d21-4a3f-bc89-0701ad83cc7b",
   "metadata": {},
   "outputs": [],
   "source": [
    "#c=colom\n",
    "#r=row\n",
    "\n",
    "m = []\n",
    "a = [[1,2,3],[4,5,6],[7,8,9]]\n",
    "r = int(input(\"Enter r = \"))\n",
    "c = int(input(\"Enter c = \"))\n",
    "for i in range (r):\n",
    "    y = []\n",
    "    for j in range(c):\n",
    "        x = int(input(\"Enter the value of x =\"))\n",
    "        y.append(x)\n",
    "    m.append(y)\n",
    "\n",
    "print(m)\n"
   ]
  },
  {
   "cell_type": "code",
   "execution_count": null,
   "id": "ed9d67c6-0292-4c4c-9430-3f55d25a5b74",
   "metadata": {},
   "outputs": [],
   "source": [
    "# dictionary\n",
    "# indexing\n",
    "# multiple and duplicate data or value\n",
    "# ordered\n",
    "# mutable\n"
   ]
  },
  {
   "cell_type": "code",
   "execution_count": null,
   "id": "bf7b5014-dc30-43f0-96a4-d4d85b490ed5",
   "metadata": {},
   "outputs": [],
   "source": [
    "d = dict()\n",
    "d = {}\n",
    "print(type(d))"
   ]
  },
  {
   "cell_type": "code",
   "execution_count": null,
   "id": "d9748e29-6b08-4ccd-898c-1ae2bf1ceb6e",
   "metadata": {},
   "outputs": [],
   "source": [
    "# d = {<key>:<value>}\n",
    "\n",
    "d = {'a':'Apple','b':'Ball'}\n",
    "print(d['a'])\n",
    "print(d['b'])\n",
    "print(d)\n"
   ]
  },
  {
   "cell_type": "code",
   "execution_count": null,
   "id": "fcb6b8ec-173f-458d-a1e0-ea44a8632032",
   "metadata": {},
   "outputs": [],
   "source": [
    "d = {}\n",
    "d['a'] = 'Apple'\n",
    "d['b'] = 'Ball'\n",
    "d['c'] = 'Cat'\n",
    "print(d)"
   ]
  },
  {
   "cell_type": "code",
   "execution_count": null,
   "id": "9162dce8-8e12-4160-93dc-638c5916cc20",
   "metadata": {},
   "outputs": [],
   "source": [
    "d = {}\n",
    "n = int(input(\"Enter n = \"))\n",
    "for i in range(n):\n",
    "    name = input(\"Enter name = \")\n",
    "    phone = int(input(\"Enter phone = \"))\n",
    "    d[name] = phone\n",
    "\n",
    "print(d)"
   ]
  },
  {
   "cell_type": "code",
   "execution_count": null,
   "id": "4500ead4-83a2-42b0-bd35-3f7fbe13baad",
   "metadata": {},
   "outputs": [],
   "source": [
    "d = {'Teja': 9865573166, 'TEj': 9868784347}\n",
    "for i in d.items():\n",
    "    print(i)\n",
    "   \n",
    "    "
   ]
  },
  {
   "cell_type": "code",
   "execution_count": null,
   "id": "42d9c632-d0cd-4fa3-a4e9-ed9e87297170",
   "metadata": {},
   "outputs": [],
   "source": [
    "d = {'Teja': 9865573166, 'TEj': 9868784347, 'Suman': 9861176800}\n",
    "d['Teja'] = 9805749108\n",
    "print(d)"
   ]
  },
  {
   "cell_type": "code",
   "execution_count": null,
   "id": "05e5e1a7-b476-4ae7-8732-7a8d213bc0f7",
   "metadata": {},
   "outputs": [],
   "source": [
    "d = {'Teja': 9865573166, 'TEj': 9868784347, 'Sita': 9861176800}\n",
    "b = {'Gita' : 9865573167}\n",
    "d.update(b)\n",
    "print(d)"
   ]
  },
  {
   "cell_type": "code",
   "execution_count": null,
   "id": "72860e0d-afd3-4a3c-aa1a-5588e0c62b16",
   "metadata": {},
   "outputs": [],
   "source": [
    "#delete in dict\n",
    "#del pop\n",
    "\n",
    "d = {'Teja': 9865573166, 'TEj': 9868784347, 'Sita': 9861176800}\n",
    "del d['Teja'] \n",
    "print(d)"
   ]
  },
  {
   "cell_type": "code",
   "execution_count": null,
   "id": "49879ddd-cdf3-4a94-9654-36a3821a6e63",
   "metadata": {},
   "outputs": [],
   "source": [
    "d = {'Teja': 9865573166, 'TEj': 9868784347, 'Sita': 9861176800}\n",
    "b = d.pop('Teja')\n",
    "print(b)\n",
    "print(d)"
   ]
  },
  {
   "cell_type": "code",
   "execution_count": null,
   "id": "f4d7029b-f08a-4938-8d60-de195554628b",
   "metadata": {},
   "outputs": [],
   "source": [
    "#list inside dict\n",
    "\n",
    "a = {'Teja': [9865573166,98664787637], 'TEj': [9868784347,98746762344], 'Sita': 9861176800, 'Gita': 9865573167}\n",
    "a['Teja']"
   ]
  },
  {
   "cell_type": "code",
   "execution_count": null,
   "id": "911ec2e7-5025-4439-8c8f-c79acd08d67c",
   "metadata": {},
   "outputs": [],
   "source": [
    "a = {'name':['Teja','Tej','Sita','Gita'],\n",
    "     'age':[23,24,25],\n",
    "     'add':['Ktm','Dhn','Mnr']}\n",
    "\n",
    "print(a)      "
   ]
  },
  {
   "cell_type": "code",
   "execution_count": null,
   "id": "bb11938d-d6ba-4add-bf8e-e903c701380a",
   "metadata": {},
   "outputs": [],
   "source": [
    "#a = {'Teja': [9865573166,98664787637], 'TEj': [9868784347,98746762344], 'Sita': 9861176800, 'Gita': 9865573167}\n",
    "a = {}\n",
    "n = int(input(\"Enter n = \"))\n",
    "for i in range(n):\n",
    "    name = input(\"Enter name = \")\n",
    "    phone1 = int(input(\"Enter ph1 = \"))\n",
    "    phone2 = int(input(\"Enter phn2 = \"))\n",
    "    a[name] = [phone1,phone2]\n",
    "\n",
    "print(a)"
   ]
  },
  {
   "cell_type": "code",
   "execution_count": null,
   "id": "693708d3-9484-4006-9559-eeb461da625d",
   "metadata": {},
   "outputs": [],
   "source": [
    "#a = {'name':['Teja','Tej','Sita','Gita'],\n",
    "#     'age':[23,24,25],\n",
    "#     'add':['Ktm','Dhn','Mnr']}\n",
    "\n",
    "#print(a)\n",
    "a = {'name':[],'age':[],'add':[]}\n",
    "n = int(input(\"Enter n = \"))\n",
    "for i in range(n):\n",
    "    name = input(\"Enter name = \")\n",
    "    age = int(input(\"Enter age = \"))\n",
    "    add = input(\"Enter add = \")\n",
    "    a['name'].append(name)\n",
    "    a['age'].append(age)\n",
    "    a['add'].append(add)\n",
    "\n",
    "print(a)"
   ]
  },
  {
   "cell_type": "code",
   "execution_count": null,
   "id": "646551f4-273d-40b3-9173-6e52e46a41ed",
   "metadata": {},
   "outputs": [],
   "source": [
    "a = {'name':['Teja','Tej','Sita','Gita'],\n",
    "     'age':[23,24,25,26],\n",
    "     'add':['Ktm','Dhn','Mnr','Npl']}\n",
    "\n",
    "print(a)      "
   ]
  },
  {
   "cell_type": "code",
   "execution_count": null,
   "id": "0a942f46-307d-40c8-8aa1-6b9b1ccc2fdc",
   "metadata": {},
   "outputs": [],
   "source": [
    "a = {'name': ['ram', 'sita'], 'age': [22, 24], 'add': ['ktm', 'dhn']}\n",
    "print('Name = ',a['name'][0])\n",
    "print('Name = ',a['age'][0])\n",
    "print('Name = ',a['add'][0])\n"
   ]
  },
  {
   "cell_type": "code",
   "execution_count": null,
   "id": "3e7d08b5-b991-4bb5-8c04-be523ade28ec",
   "metadata": {},
   "outputs": [],
   "source": [
    "a = {'name': ['ram', 'sita'], 'age': [22, 24], 'add': ['ktm', 'dhn']}\n",
    "del a['name'][0]\n",
    "del a['age'][0]\n",
    "del a['add'][0]\n",
    "print(a)\n"
   ]
  },
  {
   "cell_type": "code",
   "execution_count": null,
   "id": "0af9155b-60f5-4a6e-ace9-179e33a20973",
   "metadata": {},
   "outputs": [],
   "source": [
    "a = {'name': ['ram', 'sita'], 'age': [22, 24], 'add': ['ktm', 'dhn']}\n",
    "k = list(a.keys())\n",
    "print(k)\n",
    "index = int(input(\"Enter index = \"))\n",
    "for i in a:\n",
    "    del a[i][index]\n",
    "\n",
    "print(a)"
   ]
  },
  {
   "cell_type": "code",
   "execution_count": null,
   "id": "6ab66114-7fe8-4df2-a153-d258305eb6ea",
   "metadata": {},
   "outputs": [],
   "source": [
    "a = {'name': ['ram', 'sita'], 'age': [22, 24], 'add': ['ktm', 'dhn']}\n",
    "index = int(input(\"Enter index = \"))\n",
    "for i in a:\n",
    "    x = input(f\"Enter {i}\")\n",
    "    a[i][index] = x\n",
    "\n",
    "print(a)"
   ]
  },
  {
   "cell_type": "code",
   "execution_count": null,
   "id": "d4694e49-b7e3-41a6-9544-408a41899e34",
   "metadata": {},
   "outputs": [],
   "source": [
    "a = {'name': ['ram', 'sita'], 'age': [22, 24], 'add': ['ktm', 'dhn']}\n",
    "print(a['name'])\n",
    "for i in a:\n",
    "    print(i)\n",
    "    print(a[i])\n",
    "    \n",
    "    "
   ]
  },
  {
   "cell_type": "code",
   "execution_count": null,
   "id": "f78b3bd8-a720-49ac-a447-eda001a0b584",
   "metadata": {},
   "outputs": [],
   "source": [
    "#get()\n",
    "#keys()\n",
    "#values()\n",
    "#items()\n",
    "#Note: 1> get() function ko kaam vaniko dictionary bata data get garnu ho \n",
    "\n",
    "d = {'Name':'Python', 'Fees':20000, 'Duration':'Two_Months'}\n",
    "n = d.get('Name')\n",
    "c = d.get('Fees')\n",
    "print(n)\n",
    "print(c)"
   ]
  },
  {
   "cell_type": "code",
   "execution_count": null,
   "id": "c8c91a19-6fbe-4769-bb10-c01c0271c204",
   "metadata": {},
   "outputs": [],
   "source": [
    "d = {'Name':'Python', 'Fees':20000, 'Duration':'Two_Months'}\n",
    "n = d['Name'] #hami yesari pani data get garna sakxau\n",
    "print(n)"
   ]
  },
  {
   "cell_type": "code",
   "execution_count": null,
   "id": "32e6ec52-0813-4a6b-9301-53790bb6a3a9",
   "metadata": {},
   "outputs": [],
   "source": [
    "#keys() ,Values() ,and items() haru dictionary ko for loop ma use hunxan:\n",
    "\n",
    "d = {'Name':'Python', 'Fees':20000, 'Duration':'Two_Months'}\n",
    "for i in d.keys(): # yesari hami keys() haru matra get garna sakxau keys function use garira\n",
    "    print(i)\n",
    "\n",
    "      \n"
   ]
  },
  {
   "cell_type": "code",
   "execution_count": null,
   "id": "dec51414-29bf-4799-8553-f8aac9339207",
   "metadata": {},
   "outputs": [],
   "source": [
    "#keys() ,Values() ,and items() haru dictionary ko for loop ma use hunxan\n",
    "\n",
    "d = {'Course':'Python', 'Fees':20000, 'Duration':'Two_Months'}\n",
    "for i in d.values(): # yeasari hami values haru  pauna sakxau values() function use garina\n",
    "    print(i)\n",
    "\n",
    "      \n",
    "\n"
   ]
  },
  {
   "cell_type": "code",
   "execution_count": null,
   "id": "cbd5d36e-788b-4999-8b1a-fdc7608856ae",
   "metadata": {},
   "outputs": [],
   "source": [
    "#keys() ,Values() ,and items() haru dictionary ko for loop ma use hunxan:\n",
    "\n",
    "d = {'Course =': 'Python', 'Fees = ':20000, 'Duration = ':'Two_Months'}\n",
    "for i,j in d.items():\n",
    "    print(i ,j  )\n",
    "\n",
    "      \n"
   ]
  },
  {
   "cell_type": "code",
   "execution_count": null,
   "id": "3e84bb81-5a8e-4fb1-8b57-a622a75eb7eb",
   "metadata": {},
   "outputs": [],
   "source": [
    "#dictionary ma delete garna hami del(),and pop() function ko use garxau\n",
    "\n",
    "d = {'Course =': 'Python', 'Fees = ':20000, 'Duration = ':'Two_Months'}\n",
    "del d['Fees = ']\n",
    "print(d)\n",
    "\n",
    "      \n"
   ]
  },
  {
   "cell_type": "code",
   "execution_count": null,
   "id": "258c6445-5a49-4f63-8a67-f94943a5ab0b",
   "metadata": {},
   "outputs": [],
   "source": [
    "#dictionary ma delete garna hami del(),and pop() function ko use garxau\n",
    "\n",
    "d = {'Course =': 'Python', 'Fees = ':20000, 'Duration = ':'Two_Months'}\n",
    "a = d.pop('Fees = ')\n",
    "print(a)\n",
    "\n",
    "      \n"
   ]
  },
  {
   "cell_type": "code",
   "execution_count": null,
   "id": "e5722449-5659-44c9-8235-fc8e510bcc7e",
   "metadata": {},
   "outputs": [],
   "source": [
    "# Nasted dictionary(dictionary inside dictionary)\n",
    "# Wap to add,update,delete read to the program\n",
    " (add ra delete garni program hamile yesma add garnu xa but update chai garika xau)\n",
    "\n",
    "Course = {\n",
    "    'php':{'duration = ': 'two_months' , 'fees = ': 10000},\n",
    "    'python':{'duration = ': 'two_months' , 'fees = ':20000},\n",
    "    'java':{'duration = ': 'two_months' , 'fees = ':30000}\n",
    "}\n",
    "\n",
    "print(Course)\n",
    "print(Course['php'])\n",
    "course['java']['fees'] = 25000 #update gariko\n",
    "for i,j in course.items():\n",
    "    print(i,j) \n",
    "    print(i,j['duration'],j['fees'])\n",
    "    "
   ]
  },
  {
   "cell_type": "code",
   "execution_count": null,
   "id": "bfc2ab25-c4ad-4827-aaa5-4de1a57e5406",
   "metadata": {},
   "outputs": [],
   "source": [
    "#dictionary inside list\n",
    "\n",
    "a = [{'Name':'Ram', 'Age':20, 'Add':'Ktm'},\n",
    "     {'Name':'Shyam', 'Age':25, 'Add':'Dhn'},\n",
    "     {'Name':'Hari', 'Age':30, 'Add':'Mnr'}]\n",
    "print(a)"
   ]
  },
  {
   "cell_type": "code",
   "execution_count": null,
   "id": "6c10ef13-f6d3-4d03-8d71-bc3e67fb778b",
   "metadata": {},
   "outputs": [],
   "source": [
    "l = []\n",
    "n = int(input(\"Enter n = \"))\n",
    "for i in range(n):\n",
    "    name = input(\"Enter name = \")\n",
    "    age = int(input(\"Enter age = \"))\n",
    "    add = input(\"Enter add = \")\n",
    "    d = {'name':name,'age':age,'add':add}\n",
    "    l.append(d)\n",
    "\n",
    "print(l)"
   ]
  },
  {
   "cell_type": "code",
   "execution_count": null,
   "id": "7573f852-140d-4136-9369-3766aeeff36f",
   "metadata": {},
   "outputs": [],
   "source": [
    "info = {}\n",
    "n = int(input(\"Enter n = \"))\n",
    "for i in range(1,n+1):\n",
    "    name = input(\"Enter name = \")\n",
    "    age = int(input(\"Enter age = \"))\n",
    "    add = input(\"Enter add = \")\n",
    "    info[i] = {'name':name,'age':age,'add':add}\n",
    "    \n",
    "\n",
    "print(info)"
   ]
  },
  {
   "cell_type": "code",
   "execution_count": null,
   "id": "8893c572-2aa1-4d97-bf7a-34afd8445186",
   "metadata": {},
   "outputs": [],
   "source": [
    "# Wap to update ,delete read to the program\n",
    "\n"
   ]
  },
  {
   "cell_type": "code",
   "execution_count": null,
   "id": "7baa87bb-16e0-4d78-958f-1a02348b49fe",
   "metadata": {},
   "outputs": [],
   "source": [
    "# Tuple\n",
    "# -Indexing\n",
    "# -Multiple and duplicate data\n",
    "# -Ordered\n",
    "# -Imutable\n",
    "\n",
    "t = tuple()\n",
    "a = (1,2,3,4,5,6,7,8,9,0)\n",
    "b = ('Apple', 'Ball', 'Cat')\n",
    "print(type(a))\n",
    "print(type(b))"
   ]
  },
  {
   "cell_type": "code",
   "execution_count": null,
   "id": "1de59834-f0f5-494c-90a6-da62527b4ec9",
   "metadata": {},
   "outputs": [],
   "source": [
    "# Tuple ka function haru:\n",
    "  #min()\n",
    "  #max()\n",
    "  #count()\n",
    "  #index()\n",
    "  #sum() "
   ]
  },
  {
   "cell_type": "code",
   "execution_count": null,
   "id": "ae1aedf1-5006-4005-a44b-d3bebe4c1179",
   "metadata": {},
   "outputs": [],
   "source": [
    "# Tuple\n",
    "\n",
    "t = (22,33,44,55,66,77)\n",
    "l = len(t)\n",
    "for i in range(l):\n",
    "    print(i)     # hami le yesma index number nikaleka hau \n",
    "    "
   ]
  },
  {
   "cell_type": "code",
   "execution_count": null,
   "id": "3a41443d-7376-4dfa-8454-0ed61ba0a538",
   "metadata": {},
   "outputs": [],
   "source": [
    "# Tuple\n",
    "\n",
    "t = (22,33,44,55,66,77)\n",
    "l = len(t)\n",
    "for i in range(l):\n",
    "    print(t[i]))     # hami le yesma index number nikaleka hau \n",
    "    "
   ]
  },
  {
   "cell_type": "code",
   "execution_count": null,
   "id": "3522d512-3a83-4332-861f-e06705b33325",
   "metadata": {},
   "outputs": [],
   "source": [
    "#Tuple\n",
    "\n",
    "b = ('Apple', 'Ball', 'Cat')\n",
    "print(b[0])\n",
    "print(b[0:2])\n",
    "print(b[0:3:2])"
   ]
  },
  {
   "cell_type": "code",
   "execution_count": null,
   "id": "93a243e9-c3d2-4847-ad10-2804db978ba9",
   "metadata": {},
   "outputs": [],
   "source": [
    "# No append() insert() extend()\n",
    "# No update\n",
    "# No delete\n",
    "# NO sort\n",
    "# Note: Tuple ma hami eni sab garna paudainau but concatination garna milxa\n",
    "\n",
    "t = ()\n",
    "n = int(input('Enter n = '))\n",
    "for i in range(n):\n",
    "    x = int(input('Enter x = '))\n",
    "    t = t + (x,)\n",
    "\n",
    "print(t)\n",
    "     \n"
   ]
  },
  {
   "cell_type": "code",
   "execution_count": null,
   "id": "2d08149d-5f79-4b84-ac0d-ceeafb780398",
   "metadata": {},
   "outputs": [],
   "source": [
    "# WAP Tuple\n",
    "\n",
    "a = (1,2,3,4,5,6,7,8,9,0)\n",
    "print(min(a))\n",
    "print(max(a))\n",
    "print(sum(a))\n",
    "sorted(a)"
   ]
  },
  {
   "cell_type": "code",
   "execution_count": null,
   "id": "0593b223-3057-458e-9e22-0cdcbe4cc65d",
   "metadata": {},
   "outputs": [],
   "source": [
    "# Tuple to list\n",
    "\n",
    "b = (\"Apple\",\"Ball\",\"Cat\")\n",
    "c = list(b)\n",
    "print(c)\n",
    "del c[0]\n",
    "b = tuple(c)\n",
    "print(b)\n",
    "\n"
   ]
  },
  {
   "cell_type": "code",
   "execution_count": null,
   "id": "35e50603-9f07-4aad-93c5-e9e997472135",
   "metadata": {},
   "outputs": [],
   "source": [
    "# Tuple inside Tuple\n",
    "\n",
    "info = ()\n",
    "n = int(input(\"Enter n = \"))\n",
    "for i in range(1,n+1):\n",
    "    name = input(\"Enter name = \")\n",
    "    age = int(input(\"Enter age = \"))\n",
    "    add = input(\"Enter add = \")\n",
    "    info = info + ((name ,age,add),)\n",
    "\n",
    "print(info)\n"
   ]
  }
 ],
 "metadata": {
  "kernelspec": {
   "display_name": "Python 3 (ipykernel)",
   "language": "python",
   "name": "python3"
  },
  "language_info": {
   "codemirror_mode": {
    "name": "ipython",
    "version": 3
   },
   "file_extension": ".py",
   "mimetype": "text/x-python",
   "name": "python",
   "nbconvert_exporter": "python",
   "pygments_lexer": "ipython3",
   "version": "3.11.7"
  }
 },
 "nbformat": 4,
 "nbformat_minor": 5
}
