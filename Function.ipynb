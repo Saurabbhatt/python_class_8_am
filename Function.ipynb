{
 "cells": [
  {
   "cell_type": "code",
   "execution_count": null,
   "id": "661381de-15eb-4344-a674-8125d4c78107",
   "metadata": {},
   "outputs": [],
   "source": [
    "# function\n",
    "\n",
    "print() int() float() str() list() dict() tuple() set() #eni haru sab function hun(predefined function)\n",
    "\n"
   ]
  },
  {
   "cell_type": "code",
   "execution_count": null,
   "id": "5b6599b9-403d-4667-8ab1-53d59206e079",
   "metadata": {},
   "outputs": [],
   "source": [
    "# User defined function\n",
    "#def<function_name>():\n",
    "#    <operation>\n",
    "\n",
    "#<function_name>"
   ]
  },
  {
   "cell_type": "code",
   "execution_count": 1,
   "id": "092426b9-9498-4d82-8af5-e6bc8b7e3749",
   "metadata": {},
   "outputs": [
    {
     "name": "stdout",
     "output_type": "stream",
     "text": [
      "Hello World\n"
     ]
    }
   ],
   "source": [
    "def hello():    #function defined\n",
    "    print(\"Hello World\")\n",
    "\n",
    "hello()    #function call"
   ]
  },
  {
   "cell_type": "code",
   "execution_count": 3,
   "id": "eec9750e-92a6-426a-a7f4-61d6a0e014b3",
   "metadata": {},
   "outputs": [
    {
     "name": "stdin",
     "output_type": "stream",
     "text": [
      "Enter  l = 10\n",
      "Enter b =  10\n"
     ]
    },
    {
     "name": "stdout",
     "output_type": "stream",
     "text": [
      "100\n"
     ]
    }
   ],
   "source": [
    "def cal():\n",
    "    l = int(input(\"Enter  l =\"))  #glocal variable\n",
    "    b = int(input(\"Enter b = \"))  #glocal variable\n",
    "    a = l*b\n",
    "    print(a)\n",
    "\n",
    "cal()"
   ]
  },
  {
   "cell_type": "code",
   "execution_count": 4,
   "id": "527ae905-aa29-47b2-ad03-48c55f0447cd",
   "metadata": {},
   "outputs": [
    {
     "name": "stdin",
     "output_type": "stream",
     "text": [
      "Enter  l = 10\n",
      "Enter b =  10\n"
     ]
    },
    {
     "name": "stdout",
     "output_type": "stream",
     "text": [
      "100\n"
     ]
    }
   ],
   "source": [
    "l = int(input(\"Enter  l =\"))  #glocal variable\n",
    "b = int(input(\"Enter b = \"))  #glocal variable\n",
    "# (Note: hami le yesari function lai bahira pani defined garna sakxau vanna khojiko ) \n",
    "def cal():\n",
    "    \n",
    "    a = l*b\n",
    "    print(a)\n",
    "\n",
    "cal()"
   ]
  },
  {
   "cell_type": "code",
   "execution_count": 5,
   "id": "1711cf19-5a3f-4d06-8d3e-9c426c4f1cfd",
   "metadata": {},
   "outputs": [
    {
     "name": "stdin",
     "output_type": "stream",
     "text": [
      "Enter  l = 10\n",
      "Enter b =  10\n"
     ]
    },
    {
     "name": "stdout",
     "output_type": "stream",
     "text": [
      "100\n"
     ]
    }
   ],
   "source": [
    "def cal(x,y):    # x,y are parameter\n",
    "    l = int(input(\"Enter  l =\"))  #glocal variable\n",
    "    b = int(input(\"Enter b = \"))  #glocal variable\n",
    "    a = x*y\n",
    "    print(a)\n",
    "\n",
    "cal(l,b)      # l,b are arguments\n"
   ]
  },
  {
   "cell_type": "code",
   "execution_count": 14,
   "id": "ddda215a-3c17-4941-ac9c-33f7660acd10",
   "metadata": {},
   "outputs": [
    {
     "ename": "NameError",
     "evalue": "name 'z' is not defined",
     "output_type": "error",
     "traceback": [
      "\u001b[1;31m---------------------------------------------------------------------------\u001b[0m",
      "\u001b[1;31mNameError\u001b[0m                                 Traceback (most recent call last)",
      "Cell \u001b[1;32mIn[14], line 9\u001b[0m\n\u001b[0;32m      6\u001b[0m     \u001b[38;5;28mprint\u001b[39m(a)\n\u001b[0;32m      7\u001b[0m     z \u001b[38;5;241m=\u001b[39m [l,b]\n\u001b[1;32m----> 9\u001b[0m cal(z)\n",
      "\u001b[1;31mNameError\u001b[0m: name 'z' is not defined"
     ]
    }
   ],
   "source": [
    "def cal(z):    # x,y are parameter\n",
    "    x,y = z\n",
    "    a = x*y\n",
    "    l = int(input(\"Enter  l =\"))  #glocal variable\n",
    "    b = int(input(\"Enter b = \"))  #glocal variable\n",
    "    print(a)\n",
    "    z = [l,b]\n",
    "\n",
    "cal(z)      # a,b are arguments\n"
   ]
  },
  {
   "cell_type": "code",
   "execution_count": 15,
   "id": "ff06890b-75f3-4f95-b66c-a9e13754065b",
   "metadata": {},
   "outputs": [
    {
     "name": "stdin",
     "output_type": "stream",
     "text": [
      "enter the value a= 11\n",
      "enter the value b= 22\n",
      "enter the opr.. -\n"
     ]
    },
    {
     "name": "stdout",
     "output_type": "stream",
     "text": [
      "-11\n"
     ]
    }
   ],
   "source": [
    "# WAP of Calculator using function.\n",
    "\n",
    "def cal(a,b,opr):\n",
    "\n",
    "    if opr==\"+\":\n",
    "       print(a+b)\n",
    "    elif opr==\"-\":\n",
    "        print(a-b)\n",
    "    elif opr==\"*\":\n",
    "         print(a*b)\n",
    "    elif opr==\"/\" and b!=0:  \n",
    "         print(a/b)\n",
    "    elif opr ==\"/\" and b==0:\n",
    "         print(\"the value of b can not be zero\")  \n",
    "    else:\n",
    "       print(\"invalid opr...\")\n",
    "\n",
    "a=int(input(\"enter the value a=\"))\n",
    "b=int(input(\"enter the value b=\"))\n",
    "opr= input(\"enter the opr..\")\n",
    "\n",
    "cal(a,b,opr)"
   ]
  },
  {
   "cell_type": "code",
   "execution_count": 17,
   "id": "cbc351ee-b8ea-49b7-97e0-07a993508d7e",
   "metadata": {},
   "outputs": [
    {
     "name": "stdout",
     "output_type": "stream",
     "text": [
      "C\n",
      "C++\n",
      "C#\n",
      "Java\n",
      "Python\n"
     ]
    }
   ],
   "source": [
    "def language(lan = \"Python\"):\n",
    "    print(lan)\n",
    "\n",
    "language(\"C\")\n",
    "language(\"C++\")\n",
    "language(\"C#\")\n",
    "language(\"Java\")\n",
    "language(\"Python\")"
   ]
  },
  {
   "cell_type": "code",
   "execution_count": 19,
   "id": "f83ebac3-c5e3-401a-bbfb-0f7add858773",
   "metadata": {},
   "outputs": [
    {
     "name": "stdout",
     "output_type": "stream",
     "text": [
      "Hello Teja I am Python\n"
     ]
    }
   ],
   "source": [
    "# return type function\n",
    "\n",
    "def hello():\n",
    "    x = \"Hello Teja\"\n",
    "    return x\n",
    "\n",
    "#print(hello())\n",
    "y = hello()\n",
    "print(y + \" I am Python\")"
   ]
  },
  {
   "cell_type": "code",
   "execution_count": 21,
   "id": "337c0b68-db9d-4a14-9fc8-c67ab21abeeb",
   "metadata": {},
   "outputs": [
    {
     "name": "stdin",
     "output_type": "stream",
     "text": [
      "Enter  l = 10\n",
      "Enter b =  10\n",
      "Enter h =  2\n"
     ]
    },
    {
     "name": "stdout",
     "output_type": "stream",
     "text": [
      "100\n",
      "200\n"
     ]
    }
   ],
   "source": [
    "# WAP of area and volune using function.\n",
    "\n",
    "def cal(l,b):\n",
    "    a = l*b \n",
    "    return a\n",
    "l = int(input(\"Enter  l =\"))  #glocal variable\n",
    "b = int(input(\"Enter b = \"))  #glocal variable\n",
    "h = int(input(\"Enter h = \"))\n",
    "area = cal(l,b)\n",
    "volume = area * h\n",
    "print(area)\n",
    "print(volume)"
   ]
  },
  {
   "cell_type": "code",
   "execution_count": 22,
   "id": "111dec90-072d-473d-80b5-c4fcc7208abf",
   "metadata": {},
   "outputs": [
    {
     "name": "stdin",
     "output_type": "stream",
     "text": [
      "enter the physics marks= 70\n",
      "enter the chemistry marks = 70\n",
      "enter the math marks = 50\n",
      "enter the nepali marks = 60\n",
      "enter the english marks = 88\n"
     ]
    },
    {
     "name": "stdout",
     "output_type": "stream",
     "text": [
      "Total marks = 338\n",
      "Per = 67.6\n",
      "Grade = c\n"
     ]
    }
   ],
   "source": [
    "#  WAP of five subject and calculate total marks ,percentage and grade using function.\n",
    "\n",
    "def result():\n",
    "    physics=int(input(\"enter the physics marks=\"))\n",
    "    chemistry=int(input(\"enter the chemistry marks =\"))\n",
    "    math= int(input(\"enter the math marks =\"))\n",
    "    nepali=int(input(\"enter the nepali marks =\"))\n",
    "    english=int(input(\"enter the english marks =\"))\n",
    "    if  physics>=32 and chemistry>=32 and math>=32 and nepali>=32 and english>=32:\n",
    "      total=physics + chemistry + math + nepali + english\n",
    "      per=total/5\n",
    "      if per>=75:\n",
    "          grade='a'\n",
    "      elif per>=70:\n",
    "          grade='b'\n",
    "      elif per>=65:\n",
    "          grade='c'\n",
    "      else:\n",
    "          grade='d'\n",
    "    else:\n",
    "        grade='f'\n",
    "    \n",
    "    return total,per,grade\n",
    "\n",
    "x,y,z = result()\n",
    "\n",
    "print(\"Total marks =\",x)\n",
    "print(\"Per =\",y)\n",
    "print(\"Grade =\",z)\n",
    "\n"
   ]
  },
  {
   "cell_type": "code",
   "execution_count": 23,
   "id": "cf9e06db-67e4-410d-af6b-4206c6572dad",
   "metadata": {},
   "outputs": [
    {
     "name": "stdin",
     "output_type": "stream",
     "text": [
      "enter the value a= 20\n",
      "enter the value b= 10\n",
      "enter the opr.. +\n"
     ]
    },
    {
     "name": "stdout",
     "output_type": "stream",
     "text": [
      "30\n"
     ]
    }
   ],
   "source": [
    "# WAP of Calculator using function.\n",
    "\n",
    "def add(a,b):\n",
    "    return a+b\n",
    "def sub(a,b):\n",
    "    return a-b\n",
    "def mul(a,b):\n",
    "    return a*b\n",
    "def div(a,b):\n",
    "    return a/b\n",
    "    \n",
    "def cal(a,b,opr):  # hami def() lai yata pani defined garna sakxau vanna khojiko\n",
    "\n",
    "    if opr==\"+\":\n",
    "        print(a+b)\n",
    "    elif opr==\"-\":\n",
    "        print(a-b)\n",
    "    elif opr==\"*\":\n",
    "        print(a*b)\n",
    "    elif opr==\"/\" and b!=0:  \n",
    "        print(a/b)\n",
    "    elif opr ==\"/\" and b==0:\n",
    "        print(\"the value of b can not be zero\")  \n",
    "    else:\n",
    "        print(\"invalid opr...\")\n",
    "\n",
    "a=int(input(\"Enter the value a=\"))\n",
    "b=int(input(\"Enter the value b=\"))\n",
    "opr= input(\"Enter the opr..\")\n",
    "\n",
    "cal(a,b,opr)"
   ]
  },
  {
   "cell_type": "code",
   "execution_count": 3,
   "id": "a29d6f7c-8dfa-45ca-a154-ff3cef702433",
   "metadata": {},
   "outputs": [
    {
     "name": "stdout",
     "output_type": "stream",
     "text": [
      "Hello World\n"
     ]
    }
   ],
   "source": [
    "# Recursive function\n",
    "\n",
    "def hello():\n",
    "    print(\"Hello World\")\n",
    "    hello()      \n",
    "\n",
    "hello()\n",
    "     # Note : yo function infinite samma chalxa so yeslai control yesari garinaxa tala xa hai taa"
   ]
  },
  {
   "cell_type": "code",
   "execution_count": 7,
   "id": "b1ffdd29-efa8-4677-be38-9a6d00e26498",
   "metadata": {},
   "outputs": [
    {
     "name": "stdout",
     "output_type": "stream",
     "text": [
      "Hello World\n"
     ]
    },
    {
     "name": "stdin",
     "output_type": "stream",
     "text": [
      "Enter y fo more print =  Hello World\n"
     ]
    }
   ],
   "source": [
    "# Recursive function\n",
    "\n",
    "def hello():\n",
    "    print(\"Hello World\")\n",
    "    x = input(\"Enter y for more print = \")\n",
    "    if x == \"y\":\n",
    "        hello()\n",
    "    \n",
    "\n",
    "hello()\n",
    "      #Note :  yeslai control yesari garinaxa "
   ]
  },
  {
   "cell_type": "code",
   "execution_count": 8,
   "id": "2e657fd5-ef63-4a5b-8bd2-93695e790132",
   "metadata": {},
   "outputs": [
    {
     "name": "stdout",
     "output_type": "stream",
     "text": [
      "1.0\n"
     ]
    }
   ],
   "source": [
    "# Math function \n",
    "\n",
    "import math as m   # math function lai direct access garna sakedaina so import function use garnu parxa\n",
    "print(m.sin(m.pi/2)) # yesari nikalne sin(90) ko value"
   ]
  },
  {
   "cell_type": "code",
   "execution_count": 9,
   "id": "81bb22bb-a81b-4b4b-b7c0-c9f191bacf5e",
   "metadata": {},
   "outputs": [
    {
     "data": {
      "text/plain": [
       "120"
      ]
     },
     "execution_count": 9,
     "metadata": {},
     "output_type": "execute_result"
    }
   ],
   "source": [
    "m.factorial(5)"
   ]
  },
  {
   "cell_type": "code",
   "execution_count": 10,
   "id": "c39fddce-fec2-4316-ad97-138714622606",
   "metadata": {},
   "outputs": [
    {
     "name": "stdout",
     "output_type": "stream",
     "text": [
      "2.718281828459045\n"
     ]
    }
   ],
   "source": [
    "print(m.e) # e = expontatial function ho"
   ]
  },
  {
   "cell_type": "code",
   "execution_count": 11,
   "id": "4d076da6-eee6-46b5-8341-4b0674b5bd6c",
   "metadata": {},
   "outputs": [
    {
     "name": "stdout",
     "output_type": "stream",
     "text": [
      "9\n"
     ]
    }
   ],
   "source": [
    "# lambda function\n",
    "#syntax: lambda <arguments>:<operation>\n",
    "\n",
    "a = lambda x:x**2\n",
    "print(a(3))"
   ]
  },
  {
   "cell_type": "code",
   "execution_count": 12,
   "id": "2308f1ff-7eb8-43e8-aa1f-67b3dea9b16d",
   "metadata": {},
   "outputs": [
    {
     "name": "stdout",
     "output_type": "stream",
     "text": [
      "20\n"
     ]
    }
   ],
   "source": [
    "a = lambda x,y:x*y\n",
    "print(a(4,5))"
   ]
  },
  {
   "cell_type": "code",
   "execution_count": 13,
   "id": "6ddde0e6-6a6a-4b8a-9525-bc2acbdafa17",
   "metadata": {},
   "outputs": [],
   "source": [
    "#Filter function\n",
    "#Map function\n"
   ]
  },
  {
   "cell_type": "code",
   "execution_count": 14,
   "id": "ef746038-0c84-4dc2-a225-76e8065da92f",
   "metadata": {},
   "outputs": [
    {
     "data": {
      "text/plain": [
       "[2, 4, 6, 8, 10]"
      ]
     },
     "execution_count": 14,
     "metadata": {},
     "output_type": "execute_result"
    }
   ],
   "source": [
    "# filter function\n",
    "\n",
    "  #syntax: filter((lambda <arguments>:<condition>),list)\n",
    "\n",
    "a = [1,2,3,4,5,6,7,8,9,10]\n",
    "list(filter((lambda x:x%2==0),a))"
   ]
  },
  {
   "cell_type": "code",
   "execution_count": 15,
   "id": "96744d31-b531-4033-a980-302502936fa2",
   "metadata": {},
   "outputs": [
    {
     "data": {
      "text/plain": [
       "(2, 4, 6, 8, 10)"
      ]
     },
     "execution_count": 15,
     "metadata": {},
     "output_type": "execute_result"
    }
   ],
   "source": [
    "# filter function\n",
    "\n",
    "  #syntax: filter((lambda <arguments>:<condition>),list)\n",
    "\n",
    "a = [1,2,3,4,5,6,7,8,9,10]\n",
    "tuple(filter((lambda x:x%2==0),a))"
   ]
  },
  {
   "cell_type": "code",
   "execution_count": 16,
   "id": "f8b474fe-9981-4f2e-996a-27c76ffdcbca",
   "metadata": {},
   "outputs": [
    {
     "data": {
      "text/plain": [
       "{2, 4, 6, 8, 10}"
      ]
     },
     "execution_count": 16,
     "metadata": {},
     "output_type": "execute_result"
    }
   ],
   "source": [
    "# filter function\n",
    "\n",
    "  #syntax: filter((lambda <arguments>:<condition>),list)\n",
    "\n",
    "a = [1,2,3,4,5,6,7,8,9,10]\n",
    "set(filter((lambda x:x%2==0),a))"
   ]
  },
  {
   "cell_type": "code",
   "execution_count": 19,
   "id": "47175f58-4a53-4b0b-a61e-ff304f6e73ed",
   "metadata": {},
   "outputs": [
    {
     "data": {
      "text/plain": [
       "['bat']"
      ]
     },
     "execution_count": 19,
     "metadata": {},
     "output_type": "execute_result"
    }
   ],
   "source": [
    "a = [\"Apple\",\"Ball\",\"Cat\",\"Dog\",\"Fish\",\"bat\"]\n",
    "list(filter((lambda x:x.islower()),a))"
   ]
  },
  {
   "cell_type": "code",
   "execution_count": 22,
   "id": "8f7bffda-70bb-4321-b4e6-2a06e32fc4ce",
   "metadata": {},
   "outputs": [
    {
     "name": "stdout",
     "output_type": "stream",
     "text": [
      "['apple', 'ball', 'cat', 'dog', 'fish', 'bat']\n"
     ]
    }
   ],
   "source": [
    "# Map function\n",
    "\n",
    " #syntex: map((lambda <arguments>:<operation>),list)\n",
    "\n",
    "a = [\"Apple\",\"Ball\",\"Cat\",\"Dog\",\"Fish\",\"Bat\"]\n",
    "b = list(map((lambda x:x.lower()),a))\n",
    "print(b)"
   ]
  },
  {
   "cell_type": "code",
   "execution_count": 23,
   "id": "46fea047-cb7d-4e3d-911f-1100a8547403",
   "metadata": {},
   "outputs": [
    {
     "name": "stdout",
     "output_type": "stream",
     "text": [
      "[1, 4, 9, 16, 25, 36, 49, 64, 81]\n"
     ]
    }
   ],
   "source": [
    "a = [1,2,3,4,5,6,7,8,9]\n",
    "b = list(map(lambda x:x**2,a))\n",
    "print(b)"
   ]
  },
  {
   "cell_type": "code",
   "execution_count": 24,
   "id": "164dca78-1851-4919-9b72-a25b701f6622",
   "metadata": {},
   "outputs": [
    {
     "name": "stdout",
     "output_type": "stream",
     "text": [
      "[24000.0, 36000.0, 48000.0, 600000.0, 72000.0, 84000.0, 96000.0]\n"
     ]
    }
   ],
   "source": [
    "a = [20000,30000,40000,500000,60000,70000,80000] # suppose yo employees haru ko salary ho \n",
    "b = list(map(lambda x:x*1.2,a))  # employees haru ko salary 20% le badhako ho. i.e o.2 + 1 gariko \n",
    "print(b)\n"
   ]
  },
  {
   "cell_type": "code",
   "execution_count": 25,
   "id": "f3fc5beb-cc5a-4c5e-8345-380c8b6f3f2c",
   "metadata": {},
   "outputs": [
    {
     "name": "stdout",
     "output_type": "stream",
     "text": [
      "[0, 1, 2, 3, 4, 5, 6, 7, 8, 9]\n"
     ]
    }
   ],
   "source": [
    "# list and dict\n",
    "\n",
    "a = [i for i in range(10)]\n",
    "print(a)"
   ]
  },
  {
   "cell_type": "code",
   "execution_count": 26,
   "id": "27d02d7f-7ef5-4714-b885-825c804b5363",
   "metadata": {},
   "outputs": [
    {
     "name": "stdin",
     "output_type": "stream",
     "text": [
      "Enter value =  10\n",
      "Enter value =  20\n",
      "Enter value =  30\n",
      "Enter value =  40\n",
      "Enter value =  50\n"
     ]
    },
    {
     "name": "stdout",
     "output_type": "stream",
     "text": [
      "[10, 20, 30, 40, 50]\n"
     ]
    }
   ],
   "source": [
    "a = [int(input(\"Enter value = \")) for i in range(5)] # yesari eutai line maa code garna sakxau vanna khojiko\n",
    "print(a)"
   ]
  },
  {
   "cell_type": "code",
   "execution_count": 27,
   "id": "fa2bd398-6c0c-4f12-9693-15736b905c77",
   "metadata": {},
   "outputs": [
    {
     "name": "stdin",
     "output_type": "stream",
     "text": [
      "Enter value =  10\n",
      "Enter value =  20\n",
      "Enter value =  30\n",
      "Enter value =  40\n",
      "Enter value =  50\n"
     ]
    },
    {
     "name": "stdout",
     "output_type": "stream",
     "text": [
      "150\n"
     ]
    }
   ],
   "source": [
    "a = sum([int(input(\"Enter value = \")) for i in range(5)]) # yesari eutai line maa code garna sakxau vanna khojiko\n",
    "print(a)"
   ]
  },
  {
   "cell_type": "code",
   "execution_count": 31,
   "id": "4aa8a0c6-fa38-49ca-886c-711e584432cf",
   "metadata": {},
   "outputs": [
    {
     "name": "stdin",
     "output_type": "stream",
     "text": [
      "Enter name  Teja\n",
      "Enter phone 9867577578\n",
      "Enter name  Tej\n",
      "Enter phone 98073567297\n",
      "Enter name  Ram\n",
      "Enter phone 9865423456\n"
     ]
    },
    {
     "name": "stdout",
     "output_type": "stream",
     "text": [
      "{'Teja': '9867577578', 'Tej': '98073567297', 'Ram': '9865423456'}\n"
     ]
    }
   ],
   "source": [
    "a = {input(\"Enter name \"):input(\"Enter phone\") for i in range(3)}\n",
    "print(a)"
   ]
  },
  {
   "cell_type": "code",
   "execution_count": 30,
   "id": "736b65aa-08b9-47ad-9f22-d43b24c4032c",
   "metadata": {},
   "outputs": [
    {
     "name": "stdout",
     "output_type": "stream",
     "text": [
      "{1: 1, 2: 4, 3: 9, 4: 16, 5: 25, 6: 36, 7: 49, 8: 64, 9: 81}\n"
     ]
    }
   ],
   "source": [
    "x = [1,2,3,4,5,6,7,8,9]\n",
    "a = {i:i**2 for i in x}   # yesari pani square nikalna sakinxa map function use nagari \n",
    "print(a)"
   ]
  },
  {
   "cell_type": "code",
   "execution_count": null,
   "id": "f6946463-f5e7-4fa5-9c26-b6c5395a3f62",
   "metadata": {},
   "outputs": [],
   "source": []
  }
 ],
 "metadata": {
  "kernelspec": {
   "display_name": "Python 3 (ipykernel)",
   "language": "python",
   "name": "python3"
  },
  "language_info": {
   "codemirror_mode": {
    "name": "ipython",
    "version": 3
   },
   "file_extension": ".py",
   "mimetype": "text/x-python",
   "name": "python",
   "nbconvert_exporter": "python",
   "pygments_lexer": "ipython3",
   "version": "3.11.7"
  }
 },
 "nbformat": 4,
 "nbformat_minor": 5
}
