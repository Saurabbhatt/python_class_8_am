{
 "cells": [
  {
   "cell_type": "code",
   "execution_count": 1,
   "id": "3e6a8312-ed64-4864-99db-28c90a69da28",
   "metadata": {},
   "outputs": [
    {
     "name": "stdin",
     "output_type": "stream",
     "text": [
      "enter the value a = 10\n",
      "enter the value b= 20\n"
     ]
    },
    {
     "name": "stdout",
     "output_type": "stream",
     "text": [
      "1020\n"
     ]
    }
   ],
   "source": [
    "# WAP to add any two numbers.\n",
    "\n",
    "a=input(\"enter the value a =\")\n",
    "b=input(\"enter the value b=\")\n",
    "c=a+b\n",
    "print(c)"
   ]
  },
  {
   "cell_type": "code",
   "execution_count": null,
   "id": "e9288a72-9a57-4f82-b864-9066951a3549",
   "metadata": {},
   "outputs": [],
   "source": [
    "# or\n",
    "print(True or True)\n",
    "print(True or False)\n",
    "print(False or True)\n",
    "print(False or False)"
   ]
  },
  {
   "cell_type": "code",
   "execution_count": 4,
   "id": "00600bd2-2e20-4542-b70f-b7f138f2a389",
   "metadata": {},
   "outputs": [
    {
     "name": "stdin",
     "output_type": "stream",
     "text": [
      "enter principal= 10\n",
      "enter time= 10\n",
      "enter rate= 10\n"
     ]
    },
    {
     "name": "stdout",
     "output_type": "stream",
     "text": [
      "10.0\n"
     ]
    }
   ],
   "source": [
    "# WAP of simple intrest.\n",
    "\n",
    "p=int( input(\"enter principal=\"))\n",
    "t= int (input(\"enter time=\"))\n",
    "r=int( input(\"enter rate=\"))\n",
    "i=(p*t*r)/100\n",
    "print(i)\n"
   ]
  },
  {
   "cell_type": "code",
   "execution_count": null,
   "id": "0532b167-5faa-41d1-b045-be812a602410",
   "metadata": {},
   "outputs": [],
   "source": [
    "# WAP of five subject and calculate total marks ,percentage.\n",
    "\n",
    "m=int(input(\"enter the marksof math=\"))\n",
    "s=int(input(\"enter the marks of science=\"))\n",
    "c=int(input(\"enter the marks of computer=\"))\n",
    "e=int(input(\"enter the marks of english=\"))\n",
    "so=int(input(\"enter the marks of social=\"))\n",
    "total=m+s+c+e+so\n",
    "print(total)\n",
    "per=total/500*100\n",
    "print(per)\n"
   ]
  },
  {
   "cell_type": "code",
   "execution_count": null,
   "id": "11750763-3580-4317-aebe-a41789bad5af",
   "metadata": {},
   "outputs": [],
   "source": [
    "# WAP of five subject and calculate total marks ,percentage and grade.\n",
    "\n",
    "physics=int(input(\"enter the physics marks=\"))\n",
    "chemistry=int(input(\"enter the chemistry marks =\"))\n",
    "math= int(input(\"enter the math marks =\"))\n",
    "nepali=int(input(\"enter the nepali marks =\"))\n",
    "english=int(input(\"enter the english marks =\"))\n",
    "if  physics>=32 and chemistry>=32 and math>=32 and nepali>=32 and english>=32:\n",
    "  total=physics + chemistry + math + nepali + english\n",
    "  per=total/5\n",
    "  if per>=75:\n",
    "      grade='a'\n",
    "  elif per>=70:\n",
    "      grade='b'\n",
    "  elif per>=65:\n",
    "      grade='c'\n",
    "  else:\n",
    "      grade='d'\n",
    "else:\n",
    "    grade='f'\n",
    "print(\"Total marks =\",total)\n",
    "print(\"Per =\",per)\n",
    "print(\"Grade =\",grade)\n",
    "\n",
    "\n"
   ]
  },
  {
   "cell_type": "code",
   "execution_count": null,
   "id": "843c421c-a13f-4fd8-87b0-f8baabac3315",
   "metadata": {},
   "outputs": [],
   "source": [
    "#\n",
    "name=input(\"enter name=\")\n",
    "age=int(input(\"enter age=\"))\n",
    "add=input(\"enter address=\") \n",
    "info=\" Hello world I am \" + name + \" I am \" + str(age) + \" I am from \" + \" add \"\n",
    "print(info)"
   ]
  },
  {
   "cell_type": "code",
   "execution_count": null,
   "id": "9df82018-1dcb-40fe-9495-1b39dcbf1fb8",
   "metadata": {},
   "outputs": [],
   "source": [
    "# WAP of Calculator\n",
    "\n",
    "a=int(input(\"enter the value a=\"))\n",
    "b=int(input(\"enter the value b=\"))\n",
    "opr= input(\"enter the opr..\")\n",
    "if opr==\"+\":\n",
    "    print(a+b)\n",
    "elif opr==\"-\":\n",
    "    print(a-b)\n",
    "elif opr==\"*\":\n",
    "    print(a*b)\n",
    "elif opr==\"/\" and b!=0:  \n",
    "    print(a/b)\n",
    "elif opr ==\"/\" and b==0:\n",
    "    print(\"the value of b can not be zero\")  \n",
    "else:\n",
    "    print(\"invalid opr...\")"
   ]
  },
  {
   "cell_type": "code",
   "execution_count": null,
   "id": "72c603b2-3cde-43f7-bede-18a7e125988e",
   "metadata": {},
   "outputs": [],
   "source": [
    "# WAP of calculator only usinf if() condition.\n",
    "\n",
    "a=int(input(\"enter the value a=\"))\n",
    "b=int(input(\"enter the value b=\"))\n",
    "opr= input(\"enter the opr..(+,-,*,/)\")\n",
    "if opr==\"+\":\n",
    "    print(a+b)\n",
    "if opr==\"-\":\n",
    "    print(a-b)\n",
    "if opr==\"*\":\n",
    "    print(a*b)\n",
    "if opr==\"/\":\n",
    "    print(a/b)\n",
    "if opr!=\"+\" and opr!=\"-\" and opr!=\"*\" and opr!=\"/\":\n",
    "    print(\"invalid opr..\")"
   ]
  },
  {
   "cell_type": "code",
   "execution_count": null,
   "id": "279fae60-dcde-4968-ac02-edac639a1fd0",
   "metadata": {},
   "outputs": [],
   "source": [
    "# Nasted if else statement\n",
    "\n",
    "x=int(input(\"enter x=\"))\n",
    "if x>=0:\n",
    "   if x % 2==0:\n",
    "      print(\"the value is positive and even\")\n",
    "   else:\n",
    "      print(\"the value is positive and even\")\n",
    "else:\n",
    "    if x % 2==0:\n",
    "        print(\"the value is negative and odd\")\n",
    "    else:\n",
    "        print(\"the value is negative and odd\")\n",
    "\n"
   ]
  }
 ],
 "metadata": {
  "kernelspec": {
   "display_name": "Python 3 (ipykernel)",
   "language": "python",
   "name": "python3"
  },
  "language_info": {
   "codemirror_mode": {
    "name": "ipython",
    "version": 3
   },
   "file_extension": ".py",
   "mimetype": "text/x-python",
   "name": "python",
   "nbconvert_exporter": "python",
   "pygments_lexer": "ipython3",
   "version": "3.11.7"
  }
 },
 "nbformat": 4,
 "nbformat_minor": 5
}
