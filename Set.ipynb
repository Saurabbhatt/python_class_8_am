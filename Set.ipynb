{
 "cells": [
  {
   "cell_type": "code",
   "execution_count": 3,
   "id": "26742a4a-0a1d-49c6-b29a-94a90c1f64bc",
   "metadata": {},
   "outputs": [
    {
     "name": "stdout",
     "output_type": "stream",
     "text": [
      "<class 'set'>\n"
     ]
    }
   ],
   "source": [
    "# Set\n",
    "# multiple and no duplicate \n",
    "# unordered\n",
    "# mutable\n",
    "# unindex\n",
    "#set{} #yesari define garxau i.e curle braces le denote garxau\n",
    "\n",
    "s = {1,2,3,4,5,6,7,8,9,10}\n",
    "print(type(s))\n"
   ]
  },
  {
   "cell_type": "code",
   "execution_count": null,
   "id": "7a6c43d0-196d-4128-9158-b59486d30268",
   "metadata": {},
   "outputs": [],
   "source": [
    "# Set{} ka function haru:\n",
    "  #set()\n",
    "  #add()\n",
    "  #pop()\n",
    "  #remove()\n",
    "  #clear()\n",
    "  #discard()\n",
    "  #update()"
   ]
  },
  {
   "cell_type": "code",
   "execution_count": 4,
   "id": "082d31d4-3663-49d8-a953-e230461b3ac6",
   "metadata": {},
   "outputs": [
    {
     "name": "stdout",
     "output_type": "stream",
     "text": [
      "{'Apple', 'Ball', 'Cat', 'Dog'}\n"
     ]
    }
   ],
   "source": [
    "s = {'Apple' , 'Ball' , 'Cat' , 'Dog' , 'Ball' , 'Apple'}  # Note: set{} ma hami le jati pani repeated value deyau vani set{} le ek choti matra value return garxa kina\n",
    "                                                             #vani set{} le unique value maa kaam garxa\n",
    "print(s)"
   ]
  },
  {
   "cell_type": "code",
   "execution_count": 10,
   "id": "02edb047-3f75-442c-9bad-ea33ed9fbaa8",
   "metadata": {},
   "outputs": [
    {
     "name": "stdout",
     "output_type": "stream",
     "text": [
      "{1, 2, 3, 4, 5, 6, 7, 8, 'Apple', 10, 92}\n"
     ]
    }
   ],
   "source": [
    "s = {4,5,7,8,10,3,6,92,1,2,'Apple'}\n",
    "print(s)"
   ]
  },
  {
   "cell_type": "code",
   "execution_count": 11,
   "id": "259a544d-98e4-46c4-b3d5-ebea89a621ac",
   "metadata": {},
   "outputs": [
    {
     "name": "stdout",
     "output_type": "stream",
     "text": [
      "{'Apple', 'cat', 'Ball'}\n"
     ]
    }
   ],
   "source": [
    "# Add\n",
    "s = set()\n",
    "s.add('Apple')\n",
    "s.add('Ball')\n",
    "s.add('cat')\n",
    "print(s)"
   ]
  },
  {
   "cell_type": "code",
   "execution_count": 12,
   "id": "4f7ba09a-6848-41dd-a2e2-89d91ec88556",
   "metadata": {},
   "outputs": [
    {
     "name": "stdout",
     "output_type": "stream",
     "text": [
      "Apple\n",
      "Ball\n",
      "Cat\n",
      "Dog\n"
     ]
    }
   ],
   "source": [
    "s = {'Apple' , 'Ball' , 'Cat' , 'Dog' , 'Ball' , 'Apple'}\n",
    "for i in s:\n",
    "    print(i)"
   ]
  },
  {
   "cell_type": "code",
   "execution_count": 14,
   "id": "764436f2-0c44-4841-a9ee-f414ac09d68d",
   "metadata": {},
   "outputs": [
    {
     "name": "stdout",
     "output_type": "stream",
     "text": [
      "Both in apple and ms =  {'Ram', 'Teja'}\n"
     ]
    }
   ],
   "source": [
    "# Set for math\n",
    "\n",
    "apple = {'Ram' , 'Hari' , 'Teja' , 'Tej' ,'Ravi'}\n",
    "ms = {'Ram' , 'Bill' , 'Satya' , 'Kamala' , 'Teja'}\n",
    "\n",
    "print('Both in apple and ms = ' , apple.intersection(ms))"
   ]
  },
  {
   "cell_type": "code",
   "execution_count": 15,
   "id": "69841b17-d724-487a-ad10-aa89a9424db9",
   "metadata": {},
   "outputs": [
    {
     "name": "stdout",
     "output_type": "stream",
     "text": [
      "When both combines =  {'Ravi', 'Ram', 'Teja', 'Kamala', 'Satya', 'Tej', 'Hari', 'Bill'}\n"
     ]
    }
   ],
   "source": [
    "# Set for math\n",
    "\n",
    "apple = {'Ram' , 'Hari' , 'Teja' , 'Tej' ,'Ravi'}\n",
    "ms = {'Ram' , 'Bill' , 'Satya' , 'Kamala' , 'Teja'}\n",
    "\n",
    "print('When both combines = ' , apple.union(ms))"
   ]
  },
  {
   "cell_type": "code",
   "execution_count": 17,
   "id": "8980c32d-2b5d-4ebe-90d0-e55c79fe06ab",
   "metadata": {},
   "outputs": [
    {
     "name": "stdout",
     "output_type": "stream",
     "text": [
      "Only apple  {'Tej', 'Ravi', 'Hari'}\n",
      "Only ms  {'Bill', 'Kamala', 'Satya'}\n"
     ]
    }
   ],
   "source": [
    "# Set for math\n",
    "\n",
    "apple = {'Ram' , 'Hari' , 'Teja' , 'Tej' ,'Ravi'}\n",
    "ms = {'Ram' , 'Bill' , 'Satya' , 'Kamala' , 'Teja'}\n",
    "\n",
    "print('Only apple ' , apple - ms)\n",
    "print('Only ms ', ms - apple)"
   ]
  },
  {
   "cell_type": "code",
   "execution_count": 1,
   "id": "d247bf6f-ac12-4a47-951b-58eeee9a7093",
   "metadata": {},
   "outputs": [
    {
     "name": "stdout",
     "output_type": "stream",
     "text": [
      "Both in apple and ms =  {'Ram', 'Teja'}\n",
      "Only apple  {'Ravi', 'Tej', 'Hari'}\n",
      "Only ms  {'Satya', 'Kamala', 'Bill'}\n"
     ]
    },
    {
     "data": {
      "text/plain": [
       "{'abc', 'xyz'}"
      ]
     },
     "execution_count": 1,
     "metadata": {},
     "output_type": "execute_result"
    }
   ],
   "source": [
    "# Set for math\n",
    "\n",
    "U = {'Ram' , 'Hari' , 'Teja' , 'Tej' ,'Ravi' , 'Bill' , 'Satya' , 'Kamala' , 'Teja', 'xyz','abc'}\n",
    "apple = {'Ram' , 'Hari' , 'Teja' , 'Tej' ,'Ravi'}\n",
    "ms = {'Ram' , 'Bill' , 'Satya' , 'Kamala' , 'Teja'}\n",
    "\n",
    "print('Both in apple and ms = ' , apple.intersection(ms))\n",
    "print('Only apple ' , apple - ms)\n",
    "print('Only ms ', ms - apple)\n",
    "U - apple.union(ms) # apple ra ms maa navaka haru yesari nikalne\n"
   ]
  },
  {
   "cell_type": "code",
   "execution_count": null,
   "id": "489fb52e-83ca-4b60-8851-7f64c03e0739",
   "metadata": {},
   "outputs": [],
   "source": []
  }
 ],
 "metadata": {
  "kernelspec": {
   "display_name": "Python 3 (ipykernel)",
   "language": "python",
   "name": "python3"
  },
  "language_info": {
   "codemirror_mode": {
    "name": "ipython",
    "version": 3
   },
   "file_extension": ".py",
   "mimetype": "text/x-python",
   "name": "python",
   "nbconvert_exporter": "python",
   "pygments_lexer": "ipython3",
   "version": "3.11.7"
  }
 },
 "nbformat": 4,
 "nbformat_minor": 5
}
