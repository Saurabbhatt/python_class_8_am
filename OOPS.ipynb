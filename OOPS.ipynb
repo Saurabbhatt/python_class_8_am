{
 "cells": [
  {
   "cell_type": "code",
   "execution_count": 1,
   "id": "0ff0c0d2-3044-4ec6-ba9d-57e83d08450f",
   "metadata": {},
   "outputs": [
    {
     "name": "stdout",
     "output_type": "stream",
     "text": [
      "10\n"
     ]
    }
   ],
   "source": [
    "# OOPS in python\n",
    "\n",
    "class HelloClass:\n",
    "    a = 10\n",
    "obj = HelloClass() \n",
    "print(obj.a)"
   ]
  },
  {
   "cell_type": "code",
   "execution_count": 4,
   "id": "05c2600a-6920-468b-9248-ff1fd93dbeb8",
   "metadata": {},
   "outputs": [
    {
     "name": "stdout",
     "output_type": "stream",
     "text": [
      "Hello world\n"
     ]
    }
   ],
   "source": [
    "class Hello:\n",
    "    def hello(self):\n",
    "        print(\"Hello world\")\n",
    "\n",
    "obj = Hello()\n",
    "obj.hello()"
   ]
  },
  {
   "cell_type": "code",
   "execution_count": 5,
   "id": "b7dc94e6-cd00-4ce4-984a-715d84613089",
   "metadata": {},
   "outputs": [
    {
     "name": "stdout",
     "output_type": "stream",
     "text": [
      "Hello world\n"
     ]
    }
   ],
   "source": [
    "class Hello:\n",
    "    @staticmethod     # self vanni parameter use nagari yesati staticmethod use garna sakxau \n",
    "    def hello():\n",
    "        \n",
    "        print(\"Hello world\")\n",
    "\n",
    "obj = Hello()\n",
    "obj.hello()"
   ]
  },
  {
   "cell_type": "code",
   "execution_count": 6,
   "id": "8f0af527-13fa-4bd6-aac3-7e000b6c84e7",
   "metadata": {},
   "outputs": [
    {
     "name": "stdin",
     "output_type": "stream",
     "text": [
      "Enter l =  20\n",
      "Enter b =  10\n"
     ]
    },
    {
     "name": "stdout",
     "output_type": "stream",
     "text": [
      "200\n"
     ]
    }
   ],
   "source": [
    "# calculate area :\n",
    "\n",
    "class Cal:\n",
    "    def area(self):\n",
    "        l = int(input(\"Enter l = \"))\n",
    "        b = int(input(\"Enter b = \"))\n",
    "        a = l*b\n",
    "        print(a)\n",
    "\n",
    "obj = Cal()\n",
    "obj.area()"
   ]
  },
  {
   "cell_type": "code",
   "execution_count": 16,
   "id": "f475ecc4-caf3-4b87-a4d2-d34eaa66253f",
   "metadata": {},
   "outputs": [
    {
     "name": "stdin",
     "output_type": "stream",
     "text": [
      "Enter l =  10\n",
      "Enter b =  30\n"
     ]
    },
    {
     "name": "stdout",
     "output_type": "stream",
     "text": [
      "300\n"
     ]
    },
    {
     "name": "stdin",
     "output_type": "stream",
     "text": [
      "Enter h =  10\n",
      "Enter l =  20\n",
      "Enter b =  15\n"
     ]
    },
    {
     "name": "stdout",
     "output_type": "stream",
     "text": [
      "3000\n"
     ]
    }
   ],
   "source": [
    "# WAP to calculate area and volume.\n",
    "\n",
    "class Cal:\n",
    "    def volume(self,h):\n",
    "        l = int(input(\"Enter l = \"))\n",
    "        b = int(input(\"Enter b = \"))\n",
    "        v = l*b*h\n",
    "        print(v)\n",
    "        \n",
    "    def area(self):\n",
    "            l = int(input(\"Enter l = \"))\n",
    "            b = int(input(\"Enter b = \"))\n",
    "            a = l*b\n",
    "            print(a)\n",
    "            \n",
    "             \n",
    "obj = Cal()\n",
    "obj.area()\n",
    "h = int(input(\"Enter h = \"))\n",
    "obj.volume(h)"
   ]
  },
  {
   "cell_type": "code",
   "execution_count": 15,
   "id": "04f43d04-ba06-4019-94e5-1bc41604156b",
   "metadata": {},
   "outputs": [
    {
     "name": "stdin",
     "output_type": "stream",
     "text": [
      "Enter l =  10\n",
      "Enter b =  20\n"
     ]
    },
    {
     "name": "stdout",
     "output_type": "stream",
     "text": [
      "200\n"
     ]
    },
    {
     "name": "stdin",
     "output_type": "stream",
     "text": [
      "Enter l =  10\n",
      "Enter b =  20\n"
     ]
    },
    {
     "name": "stdout",
     "output_type": "stream",
     "text": [
      "2000\n"
     ]
    }
   ],
   "source": [
    "# WAP to calculate area and volume.\n",
    "\n",
    "class Cal:\n",
    "    def volume(self,h):\n",
    "        l = int(input(\"Enter l = \"))\n",
    "        b = int(input(\"Enter b = \"))\n",
    "        v = l*b*h\n",
    "        print(v)\n",
    "        \n",
    "    def area(self):\n",
    "            l = int(input(\"Enter l = \"))\n",
    "            b = int(input(\"Enter b = \"))\n",
    "            a = l*b\n",
    "            print(a)\n",
    "            \n",
    "             \n",
    "obj = Cal()\n",
    "obj.area()\n",
    "obj.volume(10)"
   ]
  },
  {
   "cell_type": "code",
   "execution_count": 2,
   "id": "eee6c15e-c134-40fe-a02c-6f30e0fd66a0",
   "metadata": {},
   "outputs": [
    {
     "name": "stdout",
     "output_type": "stream",
     "text": [
      "10\n",
      "50\n"
     ]
    }
   ],
   "source": [
    "# OOPS in python\n",
    "\n",
    "class HelloClass:\n",
    "    a = 10\n",
    "    def sumvalue(self): # function decleare garda def use garxau\n",
    "        print(20+30)\n",
    "    \n",
    "obj = HelloClass() \n",
    "print(obj.a)\n",
    "obj.sumvalue();"
   ]
  },
  {
   "cell_type": "code",
   "execution_count": 3,
   "id": "5b3078ce-1d47-40ea-b43f-30fcd299d2c9",
   "metadata": {},
   "outputs": [
    {
     "name": "stdout",
     "output_type": "stream",
     "text": [
      "10\n"
     ]
    }
   ],
   "source": [
    "# OOPS in python\n",
    "\n",
    "class MnrClass:\n",
    "    a = 10\n",
    "    def showvalue(self):\n",
    "        print(self.a)   # hami le functiom lai print garda  print(self.a) gardai oparni hunxa yadi print a matra gareu a is not defined vanxa \n",
    "\n",
    "obj = MnrClass()\n",
    "obj.showvalue()"
   ]
  },
  {
   "cell_type": "code",
   "execution_count": 8,
   "id": "608be90c-5909-4147-8430-ed33145549c2",
   "metadata": {},
   "outputs": [
    {
     "name": "stdout",
     "output_type": "stream",
     "text": [
      "100\n"
     ]
    }
   ],
   "source": [
    "# OOPS in python\n",
    "\n",
    "class DemoClass:\n",
    "    a = 10\n",
    "    def showvalue(self):\n",
    "         self.c =  self.a * self.a  # variable use garira banako ( self.c vanni variable ho )\n",
    "         print(self.c)\n",
    "        \n",
    "obj = DemoClass()\n",
    "obj.showvalue()"
   ]
  },
  {
   "cell_type": "code",
   "execution_count": 10,
   "id": "9b977b8c-35ca-4345-bf87-bb50dcfdb627",
   "metadata": {},
   "outputs": [
    {
     "name": "stdout",
     "output_type": "stream",
     "text": [
      "100\n",
      "50\n"
     ]
    }
   ],
   "source": [
    "# OOPS in python\n",
    "\n",
    "class DemoClass:\n",
    "    a = 10\n",
    "    def showvalue(self):\n",
    "         self.c =  self.a * self.a \n",
    "         print(self.c)\n",
    "    def showvalue1(self,a,b):   # hami ek vanda badi argument pani pass garna sakxau yesari \n",
    "        print(a+b)\n",
    "         \n",
    "obj = DemoClass()\n",
    "obj.showvalue()\n",
    "obj.showvalue1(20,30)     # mathi jasari hami argument pass gariko xau last ma yesari value pass garnu parxa"
   ]
  },
  {
   "cell_type": "code",
   "execution_count": 19,
   "id": "4fcda5d8-aec6-4a6d-8fbe-5099575c698e",
   "metadata": {},
   "outputs": [
    {
     "name": "stdout",
     "output_type": "stream",
     "text": [
      "100\n",
      "40\n"
     ]
    }
   ],
   "source": [
    "# OOPS in python\n",
    "\n",
    "class DemoClass:\n",
    "    a = 10\n",
    "    def showvalue(self):\n",
    "         self.c =  self.a * self.a \n",
    "         print(self.c)\n",
    "    def showvalue1(self,a,b):   # hami ek vanda badi argument pani pass garna sakxau yesari \n",
    "        self.c = a + b        #  yesari garna pani melni raixa \n",
    "        print(self.c)\n",
    "         \n",
    "obj = DemoClass()\n",
    "obj.showvalue()\n",
    "obj.showvalue1(20,20)     # mathi jasari hami argument pass gariko xau last ma yesari value pass garnu parxa"
   ]
  },
  {
   "cell_type": "code",
   "execution_count": 21,
   "id": "3aa3e0d0-e26b-4c69-8329-44db94372421",
   "metadata": {},
   "outputs": [
    {
     "name": "stdout",
     "output_type": "stream",
     "text": [
      "Welcome to My World\n",
      "100\n",
      "40\n"
     ]
    }
   ],
   "source": [
    "# Constructor in python\n",
    "\n",
    "class DemoClass:\n",
    "    a = 10\n",
    "    def __init__(self):    #  constructor lai yesari define garinxa( constructor define garda init function use garnu parxa and constructor lai last maa call garirahanu pardaina )\n",
    "        print(\"Welcome to My World\")\n",
    "    \n",
    "    def showvalue(self):\n",
    "         self.c =  self.a * self.a \n",
    "         print(self.c)\n",
    "        \n",
    "    def showvalue1(self,a,b):   # hami ek vanda badi argument pani pass garna sakxau yesari \n",
    "        self.c = a + b        #  yesari garna pani melni raixa \n",
    "        print(self.c)\n",
    "         \n",
    "obj = DemoClass()\n",
    "obj.showvalue()\n",
    "obj.showvalue1(20,20)     # mathi jasari hami argument pass gariko xau last ma yesari value pass garnu parxa"
   ]
  },
  {
   "cell_type": "code",
   "execution_count": 2,
   "id": "4b59b680-eb82-447d-a1cc-41a90f0471dd",
   "metadata": {},
   "outputs": [
    {
     "name": "stdin",
     "output_type": "stream",
     "text": [
      "Enter l =  10\n",
      "Enter b =  20\n"
     ]
    },
    {
     "name": "stdout",
     "output_type": "stream",
     "text": [
      "2000\n"
     ]
    },
    {
     "name": "stdin",
     "output_type": "stream",
     "text": [
      "Enter l = 10\n",
      "Enter b =  15\n"
     ]
    },
    {
     "name": "stdout",
     "output_type": "stream",
     "text": [
      "150\n"
     ]
    }
   ],
   "source": [
    "# WAP to calculate area and volume.\n",
    "\n",
    "class Cal:\n",
    "    def volume(self,h):\n",
    "        \n",
    "        l = int(input(\"Enter l = \"))\n",
    "        b = int(input(\"Enter b = \"))\n",
    "        v = l*b*h\n",
    "        print(v)\n",
    "        \n",
    "    def area(self):\n",
    "        l = int(input(\"Enter l =\"))\n",
    "        b = int(input(\"Enter b = \"))\n",
    "        area = l*b\n",
    "        print(area)\n",
    "             \n",
    "obj = Cal()\n",
    "obj.volume(10)\n",
    "obj.area()"
   ]
  },
  {
   "cell_type": "code",
   "execution_count": 12,
   "id": "7308180a-be03-40b8-96a8-d7bce01a6c43",
   "metadata": {},
   "outputs": [
    {
     "name": "stdin",
     "output_type": "stream",
     "text": [
      "Enter l =  10\n",
      "Enter b =  5\n",
      "Enter h =  2\n"
     ]
    },
    {
     "name": "stdout",
     "output_type": "stream",
     "text": [
      "100\n"
     ]
    }
   ],
   "source": [
    "# WAP to calculate area and volume.(using constructor) \n",
    "\n",
    "class Cal:\n",
    "    def __init__(self):\n",
    "        self.l = int(input(\"Enter l = \"))\n",
    "        self.b = int(input(\"Enter b = \"))\n",
    "        self.h = int(input(\"Enter h = \"))\n",
    "\n",
    "    def volume(self):\n",
    "        v = self.l*self.b*self.h\n",
    "        print(v)\n",
    "                   \n",
    "obj = Cal()\n",
    "obj.volume()"
   ]
  },
  {
   "cell_type": "code",
   "execution_count": 5,
   "id": "0e9b7ea8-73b0-47e2-b6b3-42a13cfdb31a",
   "metadata": {},
   "outputs": [
    {
     "name": "stdin",
     "output_type": "stream",
     "text": [
      "Enter name =  Rajesh\n",
      "Enter age =  26\n",
      "Enter add =  Dhangadhi\n"
     ]
    },
    {
     "name": "stdout",
     "output_type": "stream",
     "text": [
      "Rajesh Dhangadhi\n",
      " Hello World I am Rajesh . I am 26 . I am From Dhangadhi\n"
     ]
    }
   ],
   "source": [
    "class Info:\n",
    "    def __init__(self,name,age,add):\n",
    "        self.n = name\n",
    "        self.a = age\n",
    "        self.ad = add\n",
    "\n",
    "    def data(self):\n",
    "        print(self.n,self.ad)\n",
    "\n",
    "    def info(self):\n",
    "        print(f\" Hello World I am {self.n} . I am {self.a} . I am From {self.ad}\")\n",
    "\n",
    "\n",
    "name = input(\"Enter name = \")\n",
    "age = int(input(\"Enter age = \"))\n",
    "add = input(\"Enter add = \")\n",
    "\n",
    "obj = Info(name,age,add)\n",
    "obj.data()\n",
    "obj.info()\n",
    "                "
   ]
  },
  {
   "cell_type": "code",
   "execution_count": 9,
   "id": "5f535636-4ad1-4c3e-8f54-2703a8e0fe7c",
   "metadata": {},
   "outputs": [
    {
     "name": "stdin",
     "output_type": "stream",
     "text": [
      " Enter name =  ram\n",
      " Enter age =  22\n",
      "Enter add  =  KTM\n"
     ]
    },
    {
     "name": "stdout",
     "output_type": "stream",
     "text": [
      "ram KTM\n",
      " Hello World I am ram . I am 22 . I am From KTM\n"
     ]
    }
   ],
   "source": [
    "class Info:\n",
    "    def __init__(self):\n",
    "        self.name = input(\" Enter name = \")\n",
    "        self.age  = int(input(\" Enter age = \"))\n",
    "        self.add = input(\"Enter add  = \")\n",
    "\n",
    "    def data(self):\n",
    "        print(self.name,self.add)\n",
    "\n",
    "    def info(self):\n",
    "        print(f\" Hello World I am {self.name} . I am {self.age} . I am From {self.add}\")\n",
    "\n",
    "\n",
    "obj = Info()\n",
    "obj.data()\n",
    "obj.info()\n",
    "                "
   ]
  },
  {
   "cell_type": "code",
   "execution_count": 13,
   "id": "5a27dacf-a109-4296-8eb1-c4dcfa7dfb04",
   "metadata": {},
   "outputs": [
    {
     "name": "stdout",
     "output_type": "stream",
     "text": [
      "Welcome To My World A\n",
      "Welcome To My World B \n"
     ]
    }
   ],
   "source": [
    "# Inheritance in OOPS\n",
    "\n",
    "class A:\n",
    "    def displayA(self):\n",
    "        print(\"Welcome To My World A\")\n",
    "\n",
    "class B(A):\n",
    "    def displayB(self):\n",
    "        print(\"Welcome To My World B \")\n",
    "\n",
    "obj = B()\n",
    "obj.displayA()\n",
    "obj.displayB()"
   ]
  },
  {
   "cell_type": "code",
   "execution_count": 15,
   "id": "4d3d5658-c026-4178-bfa8-50d5c2c338d1",
   "metadata": {},
   "outputs": [
    {
     "name": "stdout",
     "output_type": "stream",
     "text": [
      "Hello World I am Ram. I am 28. I am from Dhangadhi\n",
      "Ram 28 Dhangadhi\n"
     ]
    }
   ],
   "source": [
    "class Data:\n",
    "    def __init__(self):\n",
    "        self.name = \"Ram\"\n",
    "        self.age = 28\n",
    "        self.add = \"Dhangadhi\"\n",
    "\n",
    "    def data(self):\n",
    "        print(self.name,self.age,self.add)\n",
    "\n",
    "class Info(Data):\n",
    "    def info(self):\n",
    "        print(f\"Hello World I am {self.name}. I am {self.age}. I am from {self.add}\")\n",
    "\n",
    "obj = Info()\n",
    "obj.info()\n",
    "obj.data()"
   ]
  },
  {
   "cell_type": "code",
   "execution_count": 16,
   "id": "58217308-d09f-44a6-b1bd-eefe78952df3",
   "metadata": {},
   "outputs": [
    {
     "name": "stdin",
     "output_type": "stream",
     "text": [
      "Enter name =  Shyam\n",
      "Enter age =  22\n",
      "Enter add =  MNR\n"
     ]
    },
    {
     "name": "stdout",
     "output_type": "stream",
     "text": [
      "Hello World I am Shyam. I am 22. I am from MNR\n",
      "Shyam 22 MNR\n"
     ]
    }
   ],
   "source": [
    "class Data:     # mathi gariko program lai yesari pani garna sakinxa\n",
    "    def __init__(self,name,age,add):\n",
    "        self.name = name\n",
    "        self.age = age\n",
    "        self.add = add\n",
    "\n",
    "    def data(self):\n",
    "        print(self.name,self.age,self.add)\n",
    "\n",
    "class Info(Data):\n",
    "    def info(self):\n",
    "        print(f\"Hello World I am {self.name}. I am {self.age}. I am from {self.add}\")\n",
    "\n",
    "name  = input(\"Enter name = \")\n",
    "age = int(input(\"Enter age = \"))\n",
    "add = input(\"Enter add = \")\n",
    "\n",
    "obj = Info(name,age,add)\n",
    "obj.info()\n",
    "obj.data()"
   ]
  },
  {
   "cell_type": "code",
   "execution_count": 17,
   "id": "3142d20b-b822-456e-ba13-224820b4f4b7",
   "metadata": {},
   "outputs": [
    {
     "name": "stdin",
     "output_type": "stream",
     "text": [
      "Enter name =  ram\n",
      "Enter age =  22\n",
      "Enter add =  ktm\n"
     ]
    },
    {
     "name": "stdout",
     "output_type": "stream",
     "text": [
      "Hello World I am ram. I am 22. I am from ktm\n",
      "ram 22 ktm\n"
     ]
    }
   ],
   "source": [
    "class Data:     # mathi gariko program lai yesari pani garna sakinxa\n",
    "    def __init__(self,add):\n",
    "        self.add = add\n",
    "      \n",
    "    def data(self):\n",
    "        print(self.name,self.age,self.add)  # yata nira print(self.add) matra lekhda pani hunxa\n",
    "\n",
    "class Info(Data):\n",
    "    def __init__(self,name,age,add):\n",
    "        self.name = name\n",
    "        self.age = age\n",
    "        Data.__init__(self,add)\n",
    "\n",
    "    def info(self):\n",
    "        print(f\"Hello World I am {self.name}. I am {self.age}. I am from {self.add}\")\n",
    "\n",
    "name  = input(\"Enter name = \")\n",
    "age = int(input(\"Enter age = \"))\n",
    "add = input(\"Enter add = \")\n",
    "\n",
    "obj = Info(name,age,add)\n",
    "obj.info()\n",
    "obj.data()"
   ]
  },
  {
   "cell_type": "code",
   "execution_count": null,
   "id": "8355cdd4-7104-4822-bfcd-1c289a1b324f",
   "metadata": {},
   "outputs": [],
   "source": [
    "# Multilevel inheritance\n",
    "\n",
    "class A:\n",
    "    data\n",
    "\n",
    "class B(A):\n",
    "    data\n",
    "\n",
    "class C(B):\n",
    "    data\n",
    "\n",
    "obj = C()"
   ]
  },
  {
   "cell_type": "code",
   "execution_count": null,
   "id": "f7130ac8-bfa4-4e4c-b92a-237a8e34cf1a",
   "metadata": {},
   "outputs": [],
   "source": [
    "# Multiple inheritance\n",
    "\n",
    "class A:\n",
    "    data\n",
    "\n",
    "class B(A):\n",
    "    data\n",
    "\n",
    "class C(A,B):\n",
    "    data\n",
    "\n",
    "obj = C()"
   ]
  },
  {
   "cell_type": "code",
   "execution_count": 22,
   "id": "96187536-1a04-4487-8635-4cdfd1796d87",
   "metadata": {},
   "outputs": [
    {
     "name": "stdin",
     "output_type": "stream",
     "text": [
      "Enter name =  ram\n",
      "Enter age =  22\n",
      "Enter add =  KTM\n"
     ]
    },
    {
     "name": "stdout",
     "output_type": "stream",
     "text": [
      "Hello World I am ram. I am 22. I am from KTM\n",
      "ram 22 KTM\n",
      "22\n"
     ]
    }
   ],
   "source": [
    "# Multilevel inheritance\n",
    "\n",
    "\n",
    "class Age:\n",
    "    def __init__(self,age):\n",
    "        self.age = age\n",
    "    def my_age(self):\n",
    "        print(self.age)\n",
    "        \n",
    "class Data(Age):     # mathi gariko program lai yesari pani garna sakinxa\n",
    "    def __init__(self,age,add):\n",
    "        self.add = add\n",
    "        Age.__init__(self,age)\n",
    "      \n",
    "    def data(self):\n",
    "        print(self.name,self.age,self.add)  # yata nira print(self.add) matra lekhda pani hunxa\n",
    "\n",
    "class Info(Data):\n",
    "    def __init__(self,name,age,add):\n",
    "        self.name = name\n",
    "        Data.__init__(self,age,add)\n",
    "\n",
    "    def info(self):\n",
    "        print(f\"Hello World I am {self.name}. I am {self.age}. I am from {self.add}\")\n",
    "\n",
    "name  = input(\"Enter name = \")\n",
    "age = int(input(\"Enter age = \"))\n",
    "add = input(\"Enter add = \")\n",
    "\n",
    "obj = Info(name,age,add)\n",
    "obj.info()\n",
    "obj.data()\n",
    "obj.my_age()"
   ]
  },
  {
   "cell_type": "code",
   "execution_count": 21,
   "id": "fd170358-375b-4bcf-b9e0-37d6e411582b",
   "metadata": {},
   "outputs": [
    {
     "name": "stdin",
     "output_type": "stream",
     "text": [
      "Enter name =  Ram\n",
      "Enter age =  22\n",
      "Enter add =  DHN\n"
     ]
    },
    {
     "name": "stdout",
     "output_type": "stream",
     "text": [
      "Hello World I am Ram. I am 22. I am from DHN\n",
      "DHN\n",
      "22\n"
     ]
    }
   ],
   "source": [
    "# Multiple inheritance\n",
    "\n",
    "\n",
    "class Age:\n",
    "    def __init__(self,age):\n",
    "        self.age = age\n",
    "    def my_age(self):\n",
    "        print(self.age)\n",
    "        \n",
    "class Data:     \n",
    "    def __init__(self,add):\n",
    "        self.add = add\n",
    "      \n",
    "    def data(self):\n",
    "        print(self.add) \n",
    "\n",
    "class Info(Age,Data):\n",
    "    def __init__(self,name,age,add):\n",
    "        self.name = name\n",
    "        Data.__init__(self,add)\n",
    "        Age.__init__(self,age)\n",
    "\n",
    "    def info(self):\n",
    "        print(f\"Hello World I am {self.name}. I am {self.age}. I am from {self.add}\")\n",
    "\n",
    "name  = input(\"Enter name = \")\n",
    "age = int(input(\"Enter age = \"))\n",
    "add = input(\"Enter add = \")\n",
    "\n",
    "obj = Info(name,age,add)\n",
    "obj.info()\n",
    "obj.data()\n",
    "obj.my_age()"
   ]
  },
  {
   "cell_type": "code",
   "execution_count": 2,
   "id": "298c9238-f71b-407d-9a8c-8feada18f1b1",
   "metadata": {},
   "outputs": [
    {
     "name": "stdout",
     "output_type": "stream",
     "text": [
      "Ram\n",
      "28\n",
      "Dhangadhi\n"
     ]
    }
   ],
   "source": [
    "# Encapsulation in oops\n",
    "\n",
    "# Public member\n",
    "class Info:\n",
    "    def __init__(self):\n",
    "        self.name = \"Ram\"\n",
    "        self.age = 28\n",
    "        self.add = \"Dhangadhi\"\n",
    "\n",
    "obj = Info()\n",
    "print(obj.name)\n",
    "print(obj.age)\n",
    "print(obj.add)"
   ]
  },
  {
   "cell_type": "code",
   "execution_count": 4,
   "id": "ceaa9565-4f26-4d10-b387-d137c74facaf",
   "metadata": {},
   "outputs": [
    {
     "name": "stdout",
     "output_type": "stream",
     "text": [
      "Ram\n",
      "28\n",
      "Dhangadhi\n"
     ]
    }
   ],
   "source": [
    "# Protected member\n",
    "\n",
    "class Info:\n",
    "    def __init__(self):\n",
    "        self._name = \"Ram\"\n",
    "        self._age = 28\n",
    "        self._add = \"Dhangadhi\"\n",
    "\n",
    "obj = Info()\n",
    "print(obj._name)\n",
    "print(obj._age)\n",
    "print(obj._add)"
   ]
  },
  {
   "cell_type": "code",
   "execution_count": 5,
   "id": "4048c64a-10e8-4b1e-aa89-a498a651aee7",
   "metadata": {},
   "outputs": [
    {
     "ename": "AttributeError",
     "evalue": "'Info' object has no attribute '__name'",
     "output_type": "error",
     "traceback": [
      "\u001b[1;31m---------------------------------------------------------------------------\u001b[0m",
      "\u001b[1;31mAttributeError\u001b[0m                            Traceback (most recent call last)",
      "Cell \u001b[1;32mIn[5], line 10\u001b[0m\n\u001b[0;32m      7\u001b[0m         \u001b[38;5;28mself\u001b[39m\u001b[38;5;241m.\u001b[39m__add \u001b[38;5;241m=\u001b[39m \u001b[38;5;124m\"\u001b[39m\u001b[38;5;124mDhangadhi\u001b[39m\u001b[38;5;124m\"\u001b[39m\n\u001b[0;32m      9\u001b[0m obj \u001b[38;5;241m=\u001b[39m Info()\n\u001b[1;32m---> 10\u001b[0m \u001b[38;5;28mprint\u001b[39m(obj\u001b[38;5;241m.\u001b[39m__name)\n\u001b[0;32m     11\u001b[0m \u001b[38;5;28mprint\u001b[39m(obj\u001b[38;5;241m.\u001b[39m__age)\n\u001b[0;32m     12\u001b[0m \u001b[38;5;28mprint\u001b[39m(obj\u001b[38;5;241m.\u001b[39m__add)\n",
      "\u001b[1;31mAttributeError\u001b[0m: 'Info' object has no attribute '__name'"
     ]
    }
   ],
   "source": [
    "# Private member \n",
    "\n",
    "class Info:\n",
    "    def __init__(self):\n",
    "        self.__name = \"Ram\"\n",
    "        self.__age = 28\n",
    "        self.__add = \"Dhangadhi\"\n",
    "\n",
    "obj = Info()\n",
    "print(obj.__name)\n",
    "print(obj.__age)\n",
    "print(obj.__add)"
   ]
  },
  {
   "cell_type": "code",
   "execution_count": 10,
   "id": "2e169287-413a-4c70-8261-995bb45f4cc1",
   "metadata": {},
   "outputs": [
    {
     "name": "stdout",
     "output_type": "stream",
     "text": [
      "Hello World I am Ram. I am 28\n",
      "Hello World I am Ram. I am 28. I am from Dhangadhi\n",
      "Ram\n"
     ]
    }
   ],
   "source": [
    "\n",
    "class Data:\n",
    "    def __init__(self):\n",
    "        self.name = \"Ram\"  # public\n",
    "        self._age = 28  # protected\n",
    "        self.__add = \"Dhangadhi\"  #private\n",
    "        \n",
    "    def data(self):\n",
    "        print(f\"Hello World I am {self.name}. I am {self._age}. I am from {self.__add}\") \n",
    "        \n",
    "class Info(Data):\n",
    "    def info(self):\n",
    "        print(f\"Hello World I am {self.name}. I am {self._age}\")\n",
    "\n",
    "obj = Info()\n",
    "obj.info()\n",
    "obj.data()\n",
    "print(obj.name)"
   ]
  },
  {
   "cell_type": "code",
   "execution_count": 12,
   "id": "2bbd45dd-3073-4d03-8ddb-1852c57dbf4b",
   "metadata": {},
   "outputs": [
    {
     "name": "stdout",
     "output_type": "stream",
     "text": [
      "Hello World I am Ram. I am 28. I am Dhangadhi\n",
      "Hello World I am Ram. I am 28. I am from Dhangadhi\n",
      "Ram\n"
     ]
    }
   ],
   "source": [
    "# yesari pani garna sakinxa \n",
    "class Data:\n",
    "    def __init__(self):\n",
    "        self.name = \"Ram\"  # public\n",
    "        self._age = 28  # protected\n",
    "        self.__add = \"Dhangadhi\"  #private\n",
    "\n",
    "    def my_add(self):\n",
    "        return self.__add\n",
    "        \n",
    "    def data(self):\n",
    "        print(f\"Hello World I am {self.name}. I am {self._age}. I am from {self.__add}\") \n",
    "        \n",
    "class Info(Data):\n",
    "    def info(self):\n",
    "        print(f\"Hello World I am {self.name}. I am {self._age}. I am {super().my_add()}\")\n",
    "\n",
    "obj = Info()\n",
    "obj.info()\n",
    "obj.data()\n",
    "print(obj.name)"
   ]
  },
  {
   "cell_type": "code",
   "execution_count": 13,
   "id": "be3cc15a-7426-4151-b0c4-97bda5135f4b",
   "metadata": {},
   "outputs": [
    {
     "name": "stdout",
     "output_type": "stream",
     "text": [
      "Hello World I am Ram. I am 28\n",
      "Hello World I am Ram. I am 28. I am from Dhangadhi\n",
      "Ram\n"
     ]
    }
   ],
   "source": [
    "# yesari pani garna sakinxa \n",
    "class Data:\n",
    "    def __init__(self):\n",
    "        self.name = \"Ram\"  # public\n",
    "        self._age = 28  # protected\n",
    "        self.__add = \"Dhangadhi\"  #private\n",
    "\n",
    "    def my_add(self):\n",
    "        return self.__add\n",
    "        \n",
    "    def data(self):\n",
    "        print(f\"Hello World I am {self.name}. I am {self._age}. I am from {self.__add}\") \n",
    "        \n",
    "class Info(Data):\n",
    "    def info(self):\n",
    "        print(f\"Hello World I am {self.name}. I am {self._age}\")\n",
    "        super().my_add()\n",
    "\n",
    "obj = Info()\n",
    "obj.info()\n",
    "obj.data()\n",
    "print(obj.name)"
   ]
  },
  {
   "cell_type": "code",
   "execution_count": 14,
   "id": "27a629d4-2c49-4114-ac4e-a7f750fac348",
   "metadata": {},
   "outputs": [
    {
     "name": "stdout",
     "output_type": "stream",
     "text": [
      "Parrot can fly\n",
      "Penguin can't fly\n",
      "Parrot can't fly\n",
      "Penguin can swim\n"
     ]
    }
   ],
   "source": [
    "# Polymorphism\n",
    "\n",
    "class Parrot:\n",
    "    def fly(self):\n",
    "        print(\"Parrot can fly\")\n",
    "    def swim(self):\n",
    "        print(\"Parrot can't fly\")\n",
    "\n",
    "class Penguin:\n",
    "    def fly(self):\n",
    "        print(\"Penguin can't fly\")\n",
    "    def swim(self):\n",
    "        print(\"Penguin can swim\")\n",
    "\n",
    "def flying_test(bird):\n",
    "    bird.fly()\n",
    "\n",
    "def swim_test(bird):\n",
    "    bird.swim()\n",
    "#obj create gariko \n",
    "blu = Parrot()\n",
    "peggy = Penguin()\n",
    "# passing the obj \n",
    "flying_test(blu)\n",
    "flying_test(peggy)\n",
    "swim_test(blu)\n",
    "swim_test(peggy)\n"
   ]
  },
  {
   "cell_type": "code",
   "execution_count": 15,
   "id": "707460bd-210a-4800-8bb6-96b1bb9d9c54",
   "metadata": {},
   "outputs": [
    {
     "name": "stdout",
     "output_type": "stream",
     "text": [
      "Shyam\n"
     ]
    }
   ],
   "source": [
    "# str method (str = it only returns string)\n",
    "\n",
    "class Info:\n",
    "    def __init__(self):\n",
    "        self.name= \"Shyam\"\n",
    "        self.age = 30\n",
    "        self.add = \"Dhandadhi\"\n",
    "\n",
    "    def __str__(self):  # str method lai yesari use  garinxa\n",
    "        return self.name\n",
    "\n",
    "obj = Info()\n",
    "print(obj) # hami le str methos use gareu vani hami obj lai print garna sakxau but aagdi garika program haru maa hami le obj lai print garna paudaina theu "
   ]
  },
  {
   "cell_type": "code",
   "execution_count": 16,
   "id": "dc6245a4-0ec7-4ef8-992e-2a44f133aec0",
   "metadata": {},
   "outputs": [
    {
     "name": "stdout",
     "output_type": "stream",
     "text": [
      "Shyam\n",
      "Shyam\n",
      "Shyam\n"
     ]
    }
   ],
   "source": [
    "# str method (str = it only returns string)\n",
    "\n",
    "# yesari 3 wotai method le hami print garna milxa\n",
    "\n",
    "class Info:\n",
    "    def __init__(self):\n",
    "        self.name= \"Shyam\"\n",
    "        self.age = 30\n",
    "        self.add = \"Dhandadhi\"\n",
    "\n",
    "    def __str__(self):  # str method lai yesari use  garinxa\n",
    "        return str(self.name)\n",
    "\n",
    "obj = Info()\n",
    "print(obj)\n",
    "print(str(obj))    # obj converted into string\n",
    "print(obj.__str__())"
   ]
  },
  {
   "cell_type": "code",
   "execution_count": 2,
   "id": "b949436b-d9b5-4f0c-8504-fba7dff62df2",
   "metadata": {},
   "outputs": [
    {
     "name": "stdout",
     "output_type": "stream",
     "text": [
      "(1,8)\n"
     ]
    }
   ],
   "source": [
    "# Operator Overloading \n",
    "\n",
    "class point:\n",
    "    def __init__(self, x= 0,y = 0):\n",
    "        self.x = x\n",
    "        self.y = y\n",
    "\n",
    "    def __str__(self):\n",
    "        return \"({0},{1})\".format(self.x,self.y)\n",
    "    \n",
    "    def __add__(self,other):\n",
    "        x = self.x + other.x\n",
    "        y = self.y + other.y\n",
    "        return point(x,y)\n",
    "\n",
    "\n",
    "p1 = point(2,3)\n",
    "p2 = point(-1,5)\n",
    "print(p1 + p2)\n",
    "    "
   ]
  },
  {
   "cell_type": "code",
   "execution_count": 9,
   "id": "f0be8963-2906-4d93-a6b5-90f1f845d7a5",
   "metadata": {},
   "outputs": [
    {
     "name": "stdout",
     "output_type": "stream",
     "text": [
      "This is init method\n",
      "This is init method\n",
      "This is init method\n",
      "This is init method\n",
      "This is init method\n",
      "(self.x)\n"
     ]
    }
   ],
   "source": [
    "# Operator Overloading ( mathi ko program lai yesari pani garna sakinxa )\n",
    "\n",
    "class Point:\n",
    "    def __init__(self, x= 0):\n",
    "        self.x = x\n",
    "        print(\"This is init method\")\n",
    "\n",
    "    def __str__(self):\n",
    "        return f\"(self.x)\"\n",
    "    \n",
    "    def __add__(self,other):\n",
    "        x = self.x + other.x\n",
    "        return Point(x)\n",
    "\n",
    "\n",
    "p1 = Point(1000)\n",
    "p2 = Point(1500)\n",
    "p3 = Point(2000)\n",
    "print(p1 + p2 + p3)\n",
    "    "
   ]
  },
  {
   "cell_type": "code",
   "execution_count": 8,
   "id": "aa9a401c-8a0e-431e-acca-3573a26655db",
   "metadata": {},
   "outputs": [
    {
     "name": "stdout",
     "output_type": "stream",
     "text": [
      "This is init method 1000\n",
      "This is init method 1500\n",
      "This is init method 2000\n",
      "This is add method 2500\n",
      "This is init method 2500\n",
      "This is add method 4500\n",
      "This is init method 4500\n",
      "This is str method  4500\n",
      "(self.x)\n"
     ]
    }
   ],
   "source": [
    "# Operator Overloading ( mathi ko program lai yesari pani garna sakinxa )\n",
    "\n",
    "class Point:\n",
    "    def __init__(self, x = 0):\n",
    "        self.x = x\n",
    "        print(\"This is init method\",self.x)\n",
    "\n",
    "    def __str__(self):\n",
    "        print(\"This is str method \",self.x)\n",
    "        return f\"(self.x)\"\n",
    "    \n",
    "    def __add__(self,other):\n",
    "        x = self.x + other.x\n",
    "        print(\"This is add method\",x)\n",
    "        return Point(x)\n",
    "\n",
    "\n",
    "p1 = Point(1000)\n",
    "p2 = Point(1500)\n",
    "p3 = Point(2000)\n",
    "print(p1 + p2 + p3)\n",
    "    "
   ]
  },
  {
   "cell_type": "code",
   "execution_count": null,
   "id": "2f35a96f-f3a6-4889-a428-2ad12da45037",
   "metadata": {},
   "outputs": [],
   "source": []
  }
 ],
 "metadata": {
  "kernelspec": {
   "display_name": "Python 3 (ipykernel)",
   "language": "python",
   "name": "python3"
  },
  "language_info": {
   "codemirror_mode": {
    "name": "ipython",
    "version": 3
   },
   "file_extension": ".py",
   "mimetype": "text/x-python",
   "name": "python",
   "nbconvert_exporter": "python",
   "pygments_lexer": "ipython3",
   "version": "3.11.7"
  }
 },
 "nbformat": 4,
 "nbformat_minor": 5
}
