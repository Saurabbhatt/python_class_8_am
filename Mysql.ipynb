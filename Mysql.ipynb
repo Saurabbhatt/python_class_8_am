{
 "cells": [
  {
   "cell_type": "code",
   "execution_count": null,
   "id": "a73f9324-dff3-4ee8-bf78-5520d6196e65",
   "metadata": {},
   "outputs": [],
   "source": [
    "pip install mysql-connector-python"
   ]
  },
  {
   "cell_type": "code",
   "execution_count": 4,
   "id": "a16d5d4c-12e1-4517-a603-1713573e1a73",
   "metadata": {},
   "outputs": [],
   "source": [
    "import mysql.connector     #importing data\n",
    "database = mysql.connector.connect(\n",
    "    host = \"localhost\",\n",
    "    user = \"root\",\n",
    "    password = \"\",\n",
    "    database = \"python_class_8_am\"\n",
    ")\n",
    "db = database.cursor()"
   ]
  },
  {
   "cell_type": "code",
   "execution_count": 5,
   "id": "ac351d2e-00b2-4caf-8b1e-848b8a37436b",
   "metadata": {},
   "outputs": [
    {
     "name": "stdout",
     "output_type": "stream",
     "text": [
      "(16, 'Rabi', 88, 78, 72, 66, 82, 450, 80.0, 'A')\n",
      "(18, 'Prakriti', 88, 78, 65, 58, 90, 420, 78.0, 'A')\n",
      "(20, 'Ram', 77, 66, 87, 72, 55, 400, 72.0, 'B')\n",
      "(21, 'Shyam', 98, 79, 89, 78, 77, 421, 84.2, 'A')\n"
     ]
    }
   ],
   "source": [
    "db.execute(\"SELECT * FROM student\")\n",
    "result  = db.fetchall()\n",
    "for x in result:\n",
    "    print(x)"
   ]
  },
  {
   "cell_type": "code",
   "execution_count": 8,
   "id": "1e3c7cf9-496c-4754-b0b5-ff2a29d952d2",
   "metadata": {},
   "outputs": [
    {
     "name": "stdout",
     "output_type": "stream",
     "text": [
      "1 record inserted.\n"
     ]
    }
   ],
   "source": [
    "import mysql.connector     #importing data(inserting in MYSQL)\n",
    "database = mysql.connector.connect(\n",
    "    host = \"localhost\",\n",
    "    user = \"root\",\n",
    "    password = \"\",\n",
    "    database = \"python_class_8_am\"\n",
    ")\n",
    "db = database.cursor()\n",
    "sql = '''INSERT INTO `student` (`sn`,`name`, `physics` , `chemistry` , `math` , `english` , `nepali` , `total` , `per`, `grade` ) \n",
    "VALUES('22','Susmita','77','88','77','67','68','430','79','A');'''\n",
    "db.execute(sql)\n",
    "database.commit()\n",
    "print(db.rowcount,\"record inserted.\")"
   ]
  },
  {
   "cell_type": "code",
   "execution_count": 7,
   "id": "1018e074-98eb-45d4-9fe9-ea2a3ae922ac",
   "metadata": {},
   "outputs": [
    {
     "name": "stdin",
     "output_type": "stream",
     "text": [
      "Enter name =  Shyam\n",
      "enter the physics marks= 98\n",
      "enter the chemistry marks = 79\n",
      "enter the math marks = 89\n",
      "enter the english marks = 78\n",
      "enter the nepali marks = 77\n"
     ]
    },
    {
     "name": "stdout",
     "output_type": "stream",
     "text": [
      "1 record inserted.\n"
     ]
    }
   ],
   "source": [
    "# WAP of five subject and calculate total marks ,percentage and grade. (mysql)\n",
    "\n",
    "name = input(\"Enter name = \")\n",
    "physics = int(input(\"enter the physics marks=\"))\n",
    "chemistry = int(input(\"enter the chemistry marks =\"))\n",
    "math = int(input(\"enter the math marks =\"))\n",
    "english = int(input(\"enter the english marks =\"))\n",
    "nepali = int(input(\"enter the nepali marks =\"))\n",
    "\n",
    "total = physics + chemistry + math + english + nepali\n",
    "per = total/5\n",
    "if per >= 75:\n",
    "  grade = \"A\"\n",
    "elif per >= 70:\n",
    "  grade = \"B\"\n",
    "elif per >= 65:\n",
    "  grade=\"C\"\n",
    "elif per >= 60:\n",
    "  grade = \"D\"\n",
    "else:\n",
    "  grade = \"F\"\n",
    "\n",
    "#(inserting data into table)\n",
    "\n",
    "sql = f'''INSERT INTO student (name,physics,chemistry,math,english,nepali,total,per,grade )\n",
    "    VALUES('{name}',{physics},{chemistry},{math},{english},{nepali},{total},{per},'{grade}')'''\n",
    "db.execute(sql)\n",
    "database.commit()\n",
    "print(db.rowcount,\"record inserted.\")\n"
   ]
  },
  {
   "cell_type": "code",
   "execution_count": 11,
   "id": "6e7af870-9ce4-4b0a-9894-276efd567f3c",
   "metadata": {},
   "outputs": [
    {
     "name": "stdout",
     "output_type": "stream",
     "text": [
      "1 record(s) affected\n"
     ]
    }
   ],
   "source": [
    "# Update in MySQL \n",
    "\n",
    "sql = \"UPDATE student SET name = 'Anishka' WHERE sn = 20\"\n",
    "db.execute(sql)\n",
    "database.commit()\n",
    "print(db.rowcount,\"record(s) affected\")"
   ]
  },
  {
   "cell_type": "code",
   "execution_count": 13,
   "id": "a308a0cd-825a-45b4-bef4-5f546315384f",
   "metadata": {},
   "outputs": [
    {
     "name": "stdout",
     "output_type": "stream",
     "text": [
      "0 record(s) delete\n"
     ]
    }
   ],
   "source": [
    "# Delete in MYSQL\n",
    "\n",
    "import mysql.connector     #importing data\n",
    "database = mysql.connector.connect(\n",
    "    host = \"localhost\",\n",
    "    user = \"root\",\n",
    "    password = \"\",\n",
    "    database = \"python_class_8_am\"\n",
    ")\n",
    "db = database.cursor()\n",
    "sql = \"DELETE FROM student  WHERE sn  = 21\" \n",
    "db.execute(sql)\n",
    "database.commit()\n",
    "print(db.rowcount, \"record(s) delete\")"
   ]
  },
  {
   "cell_type": "code",
   "execution_count": 14,
   "id": "1aeb532c-1784-416c-9b07-cd189cf85604",
   "metadata": {},
   "outputs": [
    {
     "name": "stdout",
     "output_type": "stream",
     "text": [
      "1 record(s) delete\n"
     ]
    }
   ],
   "source": [
    "# Delete in MYSQL\n",
    "\n",
    "import mysql.connector     #importing data\n",
    "database = mysql.connector.connect(\n",
    "    host = \"localhost\",\n",
    "    user = \"root\",\n",
    "    password = \"\",\n",
    "    database = \"python_class_8_am\"\n",
    ")\n",
    "db = database.cursor()\n",
    "sql = \"DELETE FROM student  WHERE sn  = 25\" \n",
    "db.execute(sql)\n",
    "database.commit()\n",
    "print(db.rowcount, \"record(s) delete\")"
   ]
  },
  {
   "cell_type": "code",
   "execution_count": 16,
   "id": "fbe38d4d-c153-4256-a7fb-d41688ae8c27",
   "metadata": {},
   "outputs": [
    {
     "name": "stdout",
     "output_type": "stream",
     "text": [
      "(16, 'Rabi', 88, 78, 72, 66, 82, 450, 80.0, 'A')\n",
      "(18, 'Prakriti', 88, 78, 65, 58, 90, 420, 78.0, 'A')\n",
      "(22, 'Susmita', 77, 88, 77, 67, 68, 430, 79.0, 'A')\n"
     ]
    }
   ],
   "source": [
    "# Select maa yesari pani select garna sakxau \n",
    "\n",
    "db.execute(\"SELECT * FROM student WHERE grade = 'A'\")\n",
    "result  = db.fetchall()\n",
    "for x in result:\n",
    "    print(x)"
   ]
  },
  {
   "cell_type": "code",
   "execution_count": 17,
   "id": "bf9957f1-56a6-4a1e-b452-1ef531ebc385",
   "metadata": {},
   "outputs": [
    {
     "name": "stdout",
     "output_type": "stream",
     "text": [
      "(16, 'Rabi', 88, 78, 72, 66, 82, 450, 80.0, 'A')\n",
      "(18, 'Prakriti', 88, 78, 65, 58, 90, 420, 78.0, 'A')\n",
      "(20, 'Anishka', 77, 66, 87, 72, 55, 400, 72.0, 'B')\n",
      "(22, 'Susmita', 77, 88, 77, 67, 68, 430, 79.0, 'A')\n"
     ]
    }
   ],
   "source": [
    "# Select maa yesari pani select garna sakxau \n",
    "\n",
    "db.execute(\"SELECT * FROM student WHERE physics> 75\")\n",
    "result  = db.fetchall()\n",
    "for x in result:\n",
    "    print(x)"
   ]
  },
  {
   "cell_type": "code",
   "execution_count": 18,
   "id": "e0040ed5-11e4-45ff-a90a-99b7feb66ac4",
   "metadata": {},
   "outputs": [
    {
     "name": "stdout",
     "output_type": "stream",
     "text": [
      "(22, 'Susmita', 77, 88, 77, 67, 68, 430, 79.0, 'A')\n"
     ]
    }
   ],
   "source": [
    "# Search in MYSQL\n",
    "\n",
    "db.execute(\"SELECT * FROM student WHERE name LIKE '%Susmita%'\")  # LIKE vanira vanda similar type ka value lai disply garxa\n",
    "result  = db.fetchall()\n",
    "for x in result:\n",
    "    print(x)"
   ]
  },
  {
   "cell_type": "code",
   "execution_count": 19,
   "id": "bdbae168-8cb5-49b6-bd27-6cad60959982",
   "metadata": {},
   "outputs": [
    {
     "name": "stdout",
     "output_type": "stream",
     "text": [
      "(16, 'Rabi', 88, 78, 72, 66, 82, 450, 80.0, 'A')\n",
      "(18, 'Prakriti', 88, 78, 65, 58, 90, 420, 78.0, 'A')\n"
     ]
    }
   ],
   "source": [
    "# Select maa yesari pani select garna sakxau \n",
    "\n",
    "db.execute(\"SELECT * FROM student WHERE physics> 75 and chemistry = 78\")\n",
    "result  = db.fetchall()\n",
    "for x in result:\n",
    "    print(x)"
   ]
  },
  {
   "cell_type": "code",
   "execution_count": 20,
   "id": "8a109183-3a0b-4e97-a7e8-015f23306c89",
   "metadata": {},
   "outputs": [
    {
     "name": "stdout",
     "output_type": "stream",
     "text": [
      "(16, 'Rabi', 88, 78, 72, 66, 82, 450, 80.0, 'A')\n",
      "(18, 'Prakriti', 88, 78, 65, 58, 90, 420, 78.0, 'A')\n",
      "(20, 'Anishka', 77, 66, 87, 72, 55, 400, 72.0, 'B')\n",
      "(22, 'Susmita', 77, 88, 77, 67, 68, 430, 79.0, 'A')\n"
     ]
    }
   ],
   "source": [
    "# Select maa yesari pani select garna sakxau \n",
    "\n",
    "db.execute(\"SELECT * FROM student WHERE physics> 75 or chemistry >= 78\")\n",
    "result  = db.fetchall()\n",
    "for x in result:\n",
    "    print(x)"
   ]
  },
  {
   "cell_type": "code",
   "execution_count": 21,
   "id": "5a871c8b-d808-45db-9da6-389608037e63",
   "metadata": {},
   "outputs": [
    {
     "name": "stdout",
     "output_type": "stream",
     "text": [
      "('Rabi', 450, 80.0, 'A')\n",
      "('Prakriti', 420, 78.0, 'A')\n",
      "('Anishka', 400, 72.0, 'B')\n",
      "('Susmita', 430, 79.0, 'A')\n"
     ]
    }
   ],
   "source": [
    "# Select maa yesari pani select garna sakxau \n",
    "\n",
    "db.execute(\"SELECT name, total,per,grade FROM student \")\n",
    "result  = db.fetchall()\n",
    "for x in result:\n",
    "    print(x)"
   ]
  },
  {
   "cell_type": "code",
   "execution_count": 23,
   "id": "ce7bdaea-0f6d-4df9-a79e-a707bf8c9c5a",
   "metadata": {},
   "outputs": [
    {
     "name": "stdout",
     "output_type": "stream",
     "text": [
      "(16, 'Rabi', 88, 78, 72, 66, 82, 450, 80.0, 'A')\n",
      "(22, 'Susmita', 77, 88, 77, 67, 68, 430, 79.0, 'A')\n",
      "(18, 'Prakriti', 88, 78, 65, 58, 90, 420, 78.0, 'A')\n",
      "(20, 'Anishka', 77, 66, 87, 72, 55, 400, 72.0, 'B')\n"
     ]
    }
   ],
   "source": [
    "# Select maa yesari pani select garna sakxau \n",
    "\n",
    "db.execute(\"SELECT * FROM student ORDER BY total DESC\") # DESC vaniko decending order maa vanna khojiko\n",
    "result  = db.fetchall()\n",
    "for x in result:\n",
    "    print(x)"
   ]
  },
  {
   "cell_type": "code",
   "execution_count": 24,
   "id": "6983de45-fce0-4b77-98c9-b3dd715bc45d",
   "metadata": {},
   "outputs": [
    {
     "name": "stdout",
     "output_type": "stream",
     "text": [
      "(16, 'Rabi', 88, 78, 72, 66, 82, 450, 80.0, 'A')\n",
      "(22, 'Susmita', 77, 88, 77, 67, 68, 430, 79.0, 'A')\n"
     ]
    }
   ],
   "source": [
    "# Select maa yesari pani select garna sakxau \n",
    "\n",
    "db.execute(\"SELECT * FROM student ORDER BY total DESC\") # DESC vaniko decending order maa vanna khojiko\n",
    "result  = db.fetchall()\n",
    "for x in result[0:2]: # top two student ko datail nekaliko \n",
    "    print(x)"
   ]
  },
  {
   "cell_type": "code",
   "execution_count": 1,
   "id": "f5475892-41cb-47d3-bd2e-aa701025c1e1",
   "metadata": {},
   "outputs": [],
   "source": [
    "import mysql.connector\n",
    "database = mysql.connector.connect(\n",
    "    host = \"localhost\",\n",
    "    user = \"root\",\n",
    "    password = \"\",\n",
    "    database = \"python_first_class\"\n",
    ")\n",
    "\n",
    "db = database.cursor()"
   ]
  },
  {
   "cell_type": "code",
   "execution_count": 15,
   "id": "1ab5845e-d5a0-4018-9880-783976b15e29",
   "metadata": {},
   "outputs": [],
   "source": [
    "db.execute(\"SELECT * FROM employee\")\n",
    "result  = db.fetchall()\n",
    "for x in result:\n",
    "    print(x)"
   ]
  },
  {
   "cell_type": "code",
   "execution_count": null,
   "id": "4f1a0b54-d905-4514-be12-431d26887661",
   "metadata": {},
   "outputs": [],
   "source": []
  }
 ],
 "metadata": {
  "kernelspec": {
   "display_name": "Python 3 (ipykernel)",
   "language": "python",
   "name": "python3"
  },
  "language_info": {
   "codemirror_mode": {
    "name": "ipython",
    "version": 3
   },
   "file_extension": ".py",
   "mimetype": "text/x-python",
   "name": "python",
   "nbconvert_exporter": "python",
   "pygments_lexer": "ipython3",
   "version": "3.11.7"
  }
 },
 "nbformat": 4,
 "nbformat_minor": 5
}
