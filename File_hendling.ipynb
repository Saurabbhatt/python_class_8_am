{
 "cells": [
  {
   "cell_type": "code",
   "execution_count": null,
   "id": "f920d9bb-457e-477d-860e-7438bf90f257",
   "metadata": {},
   "outputs": [],
   "source": [
    "#syntax: file = open('<file_name>','mode)\n",
    "       Or\n",
    "# with open (\"<file_name>','<mode>')as file:\n",
    "#operation"
   ]
  },
  {
   "cell_type": "code",
   "execution_count": null,
   "id": "b3047b5b-a47a-44ea-abab-310d2eef5f0c",
   "metadata": {},
   "outputs": [],
   "source": [
    "#mode\n",
    "# r = ->read\n",
    "# x = ->create\n",
    "#w = ->write\n",
    "# a = ->append"
   ]
  },
  {
   "cell_type": "code",
   "execution_count": null,
   "id": "65abad8f-f518-4a62-bbb4-af7bf838aa36",
   "metadata": {},
   "outputs": [],
   "source": [
    "#create file\n",
    "\n",
    "file = open('data.txt','x')\n",
    "file.close()"
   ]
  },
  {
   "cell_type": "code",
   "execution_count": null,
   "id": "5c9feb77-942d-489b-9d89-3a376aa2eb41",
   "metadata": {},
   "outputs": [],
   "source": [
    "# read file\n",
    "\n",
    "file = open('data.txt','r')\n",
    "content = file.read()\n",
    "print(content)\n",
    "file.close()"
   ]
  },
  {
   "cell_type": "code",
   "execution_count": null,
   "id": "d80bc28f-0d5c-438c-a5af-b5997a6ff893",
   "metadata": {},
   "outputs": [],
   "source": [
    "a = \"apple_ball_cat\"\n",
    "a.split(\"_\")"
   ]
  },
  {
   "cell_type": "code",
   "execution_count": null,
   "id": "51e6aef2-44de-4dce-817b-381980f31a05",
   "metadata": {},
   "outputs": [],
   "source": [
    "content.split('\\n')"
   ]
  },
  {
   "cell_type": "code",
   "execution_count": null,
   "id": "7df85bbc-82cc-45e6-995e-dcb84b171e49",
   "metadata": {},
   "outputs": [],
   "source": [
    "line_no = int(input(\"Enter line number = \"))\n",
    "lines[line_no -1]"
   ]
  },
  {
   "cell_type": "code",
   "execution_count": null,
   "id": "840ca9c3-a159-41a4-877d-fe5ec8f648f4",
   "metadata": {},
   "outputs": [],
   "source": [
    "#Write on file\n",
    "\n",
    "file = open('data1.txt','w')\n",
    "file.write('Hello world')\n",
    "file.close()"
   ]
  },
  {
   "cell_type": "code",
   "execution_count": null,
   "id": "a30b016d-8415-4b13-95b3-59d2fd4c7c46",
   "metadata": {},
   "outputs": [],
   "source": [
    "bill = \"\"\n",
    "all_total = 0\n",
    "n= int(input(\"Enter n = \"))\n",
    "for i in range (n):\n",
    "    name= input(\"Enter the Name = \")\n",
    "    price = int(input(\"Enter the price = \"))\n",
    "    quantity =int(input(\"Enter the quantity = \"))\n",
    "    total = price * quantity\n",
    "    bill = bill + name + \" \"  + str(price) + \" \" + str(quantity) + \" \" + str(total) + \"\\n\"\n",
    "    \n",
    "file = open('bill2.txt','w')\n",
    "file.write(bill)\n",
    "file.close()"
   ]
  },
  {
   "cell_type": "markdown",
   "id": "8d0fd88f-0aad-4c16-b1bb-0da4ab07d9b8",
   "metadata": {},
   "source": [
    "## WAP 0f billing system using file hendling\n",
    "\n",
    "bill = \"\"\n",
    "all_total = 0\n",
    "n= int(input(\"Enter n = \"))\n",
    "for i in range (n):\n",
    "    name= input(\"Enter the Name = \")\n",
    "    price = int(input(\"Enter the price = \"))\n",
    "    quantity =int(input(\"Enter the quantity = \"))\n",
    "    total = price * quantity\n",
    "    bill = bill + name + \" \"  + str(price) + \" \" + str(quantity) + \" \" + str(total) + \"\\n\"\n",
    "    \n",
    "\n",
    "file = open('bill.txt','w')\n",
    "file.write(bill)\n",
    "file.close()\n"
   ]
  },
  {
   "cell_type": "code",
   "execution_count": null,
   "id": "b7bcf34f-d65d-4f01-8a70-bc748ccf1da0",
   "metadata": {},
   "outputs": [],
   "source": [
    "file = open('bill.txt','r')   # File jo hami le mathi (billing system wala) wala garika xau ni tislai read gariko (lai hami yesari read garna sakxau vanna khojiko ho) \n",
    "content = file.read()\n",
    "print(content)\n",
    "file.close()"
   ]
  },
  {
   "cell_type": "code",
   "execution_count": null,
   "id": "03b079a6-b942-4932-addf-c0c0f5b5d101",
   "metadata": {},
   "outputs": [],
   "source": [
    "data = content.split('\\n')[:-1]\n",
    "print(data)"
   ]
  },
  {
   "cell_type": "code",
   "execution_count": null,
   "id": "b22613af-c12c-4770-9f81-10e815f4a72c",
   "metadata": {},
   "outputs": [],
   "source": [
    "\n",
    "for i in data: # List [''] ma convert garika hau\n",
    "    print(i.split())"
   ]
  },
  {
   "cell_type": "code",
   "execution_count": null,
   "id": "277247c2-fb27-4c6a-aa5d-36fc4a9f4013",
   "metadata": {},
   "outputs": [],
   "source": [
    "list_bill =[]\n",
    "for i in data: # List [''] ma convert garika hau\n",
    "    x = i.split()\n",
    "    x[1] = int(x[1])\n",
    "    x[2] = int(x[2])\n",
    "    x[3] = int(x[3])\n",
    "    list_bill.append(x)\n",
    "\n",
    "print(list_bill)\n",
    "    "
   ]
  },
  {
   "cell_type": "code",
   "execution_count": null,
   "id": "a426da48-052a-4514-ba72-68a419390f67",
   "metadata": {},
   "outputs": [],
   "source": [
    "list_bill =[]\n",
    "for i in data: # List [''] ma convert garika hau\n",
    "    x = i.split()\n",
    "    #x[1] = int(x[1])\n",
    "    #x[2] = int(x[2])\n",
    "    #x[3] = int(x[3])\n",
    "    list_bill.append(x)    # yesari garda sapai values haru string maa dinxa soo hami le mathiko jasari garni\n",
    "\n",
    "print(list_bill)\n",
    "    "
   ]
  },
  {
   "cell_type": "code",
   "execution_count": null,
   "id": "b3283255-197d-4c9e-b907-4b14946da901",
   "metadata": {},
   "outputs": [],
   "source": [
    "list_bill =[]\n",
    "for i in data: # List [''] ma convert garika hau\n",
    "    x = i.split()\n",
    "    x[1] = int(x[1])\n",
    "    x[2] = int(x[2])\n",
    "    x[3] = int(x[3])\n",
    "    list_bill.append(x)\n",
    "\n",
    "print(list_bill)\n",
    "del list_bill[1]    "
   ]
  },
  {
   "cell_type": "code",
   "execution_count": null,
   "id": "49bb1030-801a-400f-919e-c1b09602e6c2",
   "metadata": {},
   "outputs": [],
   "source": [
    "# Writing list into file\n",
    "\n",
    "import csv\n",
    "file  = open('bill1.txt','w')\n",
    "x = csv.writer(file)\n",
    "x.writerows(list_bill)\n",
    "file.close()"
   ]
  },
  {
   "cell_type": "code",
   "execution_count": null,
   "id": "c72e7478-bb3e-4730-8b68-e92afa7c4eb3",
   "metadata": {},
   "outputs": [],
   "source": [
    "# Append mode in file\n",
    "\n",
    "file = open('append_bill.txt','a')\n",
    "info = \"\"\n",
    "n = int(input(\"Enter n = \"))\n",
    "for i in range(n):\n",
    "    name = input(\"Enter name = \")\n",
    "    age = int(input(\"Enter age = \"))\n",
    "    add = input(\"Enter add = \")\n",
    "    info = info + f\"{name} {age} {add}\\n\"\n",
    "\n",
    "file.write(info)\n",
    "file.close()"
   ]
  },
  {
   "cell_type": "code",
   "execution_count": 1,
   "id": "517e27fd-96c4-4ec2-8d01-3bf18b2f05af",
   "metadata": {},
   "outputs": [],
   "source": [
    "# Pickle in python\n",
    "#Note:Python pickle function haru:\n",
    "    # dump() -> write or(store) garnu (yeslai serializing pani vaninxa)\n",
    "    # load() ->read garnu (yeslai de-serializing pani vaninxa)\n",
    "\n",
    "#dump()\n",
    "   #syntax:dump(obj,file)\n",
    "\n",
    "import pickle\n",
    "l = [10,20,30,40,50]\n",
    "file = open(\"writedata.txt\",\"wb\")\n",
    "pickle.dump(l,file)\n",
    "file.close()"
   ]
  },
  {
   "cell_type": "code",
   "execution_count": 3,
   "id": "7e6f03c0-4603-4678-9ab3-9b2eb5f2f874",
   "metadata": {},
   "outputs": [],
   "source": [
    "\n",
    "import pickle\n",
    "example = {1:\"2\",2:\"4\",3:\"5\"} # yo dictionary ho({} yesto symbol ko )\n",
    "pickle_write = open(\"text.txt\",\"wb\")\n",
    "pickle.dump(example,pickle_write)\n",
    "pickle_write.close()"
   ]
  },
  {
   "cell_type": "code",
   "execution_count": 4,
   "id": "9f569094-a2e9-420b-a248-3ab8511103e1",
   "metadata": {},
   "outputs": [
    {
     "name": "stdout",
     "output_type": "stream",
     "text": [
      "[10, 20, 30, 40, 50]\n"
     ]
    }
   ],
   "source": [
    "# load() :data lai de-serialized garnu or read garnu\n",
    "\n",
    "import pickle\n",
    "file = open(\"writedata.txt\",\"rb\")\n",
    "l = pickle.load(file)\n",
    "print(l)"
   ]
  },
  {
   "cell_type": "code",
   "execution_count": null,
   "id": "a7881cbb-b264-4015-b3c5-9b68c21e0a22",
   "metadata": {},
   "outputs": [],
   "source": [
    "# JSON python\n",
    "\n"
   ]
  },
  {
   "cell_type": "code",
   "execution_count": null,
   "id": "9b52d631-d991-4856-bb28-d50bf0960102",
   "metadata": {},
   "outputs": [],
   "source": []
  }
 ],
 "metadata": {
  "kernelspec": {
   "display_name": "Python 3 (ipykernel)",
   "language": "python",
   "name": "python3"
  },
  "language_info": {
   "codemirror_mode": {
    "name": "ipython",
    "version": 3
   },
   "file_extension": ".py",
   "mimetype": "text/x-python",
   "name": "python",
   "nbconvert_exporter": "python",
   "pygments_lexer": "ipython3",
   "version": "3.11.7"
  }
 },
 "nbformat": 4,
 "nbformat_minor": 5
}
